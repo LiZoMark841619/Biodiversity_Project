{
 "cells": [
  {
   "cell_type": "code",
   "execution_count": 2780,
   "metadata": {},
   "outputs": [],
   "source": [
    "import pandas as pd\n",
    "import numpy as np\n",
    "import seaborn as sns\n",
    "import matplotlib.pyplot as plt\n",
    "import glob"
   ]
  },
  {
   "cell_type": "code",
   "execution_count": 2781,
   "metadata": {},
   "outputs": [],
   "source": [
    "file1 = pd.read_csv('observations.csv')\n",
    "file2 = pd.read_csv('species_info.csv')\n",
    "file1_2 = glob.glob('*.csv')\n",
    "files = [pd.read_csv(filename) for filename in file1_2]\n",
    "file3 = pd.concat(files)"
   ]
  },
  {
   "cell_type": "code",
   "execution_count": 2782,
   "metadata": {},
   "outputs": [
    {
     "name": "stdout",
     "output_type": "stream",
     "text": [
      "<class 'pandas.core.frame.DataFrame'>\n",
      "RangeIndex: 23296 entries, 0 to 23295\n",
      "Data columns (total 3 columns):\n",
      " #   Column           Non-Null Count  Dtype \n",
      "---  ------           --------------  ----- \n",
      " 0   scientific_name  23296 non-null  object\n",
      " 1   park_name        23296 non-null  object\n",
      " 2   observations     23296 non-null  int64 \n",
      "dtypes: int64(1), object(2)\n",
      "memory usage: 546.1+ KB\n"
     ]
    }
   ],
   "source": [
    "file1.info()"
   ]
  },
  {
   "cell_type": "code",
   "execution_count": 2783,
   "metadata": {},
   "outputs": [
    {
     "data": {
      "text/html": [
       "<div>\n",
       "<style scoped>\n",
       "    .dataframe tbody tr th:only-of-type {\n",
       "        vertical-align: middle;\n",
       "    }\n",
       "\n",
       "    .dataframe tbody tr th {\n",
       "        vertical-align: top;\n",
       "    }\n",
       "\n",
       "    .dataframe thead th {\n",
       "        text-align: right;\n",
       "    }\n",
       "</style>\n",
       "<table border=\"1\" class=\"dataframe\">\n",
       "  <thead>\n",
       "    <tr style=\"text-align: right;\">\n",
       "      <th></th>\n",
       "      <th>scientific_name</th>\n",
       "      <th>park_name</th>\n",
       "      <th>observations</th>\n",
       "    </tr>\n",
       "  </thead>\n",
       "  <tbody>\n",
       "    <tr>\n",
       "      <th>0</th>\n",
       "      <td>Vicia benghalensis</td>\n",
       "      <td>Great Smoky Mountains National Park</td>\n",
       "      <td>68</td>\n",
       "    </tr>\n",
       "    <tr>\n",
       "      <th>1</th>\n",
       "      <td>Neovison vison</td>\n",
       "      <td>Great Smoky Mountains National Park</td>\n",
       "      <td>77</td>\n",
       "    </tr>\n",
       "    <tr>\n",
       "      <th>2</th>\n",
       "      <td>Prunus subcordata</td>\n",
       "      <td>Yosemite National Park</td>\n",
       "      <td>138</td>\n",
       "    </tr>\n",
       "    <tr>\n",
       "      <th>3</th>\n",
       "      <td>Abutilon theophrasti</td>\n",
       "      <td>Bryce National Park</td>\n",
       "      <td>84</td>\n",
       "    </tr>\n",
       "    <tr>\n",
       "      <th>4</th>\n",
       "      <td>Githopsis specularioides</td>\n",
       "      <td>Great Smoky Mountains National Park</td>\n",
       "      <td>85</td>\n",
       "    </tr>\n",
       "  </tbody>\n",
       "</table>\n",
       "</div>"
      ],
      "text/plain": [
       "            scientific_name                            park_name  observations\n",
       "0        Vicia benghalensis  Great Smoky Mountains National Park            68\n",
       "1            Neovison vison  Great Smoky Mountains National Park            77\n",
       "2         Prunus subcordata               Yosemite National Park           138\n",
       "3      Abutilon theophrasti                  Bryce National Park            84\n",
       "4  Githopsis specularioides  Great Smoky Mountains National Park            85"
      ]
     },
     "execution_count": 2783,
     "metadata": {},
     "output_type": "execute_result"
    }
   ],
   "source": [
    "file1.head()"
   ]
  },
  {
   "cell_type": "code",
   "execution_count": 2784,
   "metadata": {},
   "outputs": [
    {
     "name": "stdout",
     "output_type": "stream",
     "text": [
      "There are 4 unique area under examination and these are as follows:\n",
      "['Great Smoky Mountains National Park' 'Yosemite National Park'\n",
      " 'Bryce National Park' 'Yellowstone National Park']\n"
     ]
    }
   ],
   "source": [
    "print(f'''There are {file1.park_name.nunique()} unique area under examination and these are as follows:\n",
    "{file1.park_name.unique()}''')"
   ]
  },
  {
   "cell_type": "code",
   "execution_count": 2785,
   "metadata": {},
   "outputs": [],
   "source": [
    "file1.park_name.replace('Great Smoky Mountains National Park', 'Great Smoky', inplace=True)\n",
    "file1.park_name.replace('Yosemite National Park', 'Yosemite', inplace=True)\n",
    "file1.park_name.replace('Bryce National Park', 'Bryce', inplace=True)\n",
    "file1.park_name.replace('Yellowstone National Park', 'Yellowstone', inplace=True)"
   ]
  },
  {
   "cell_type": "code",
   "execution_count": 2786,
   "metadata": {},
   "outputs": [
    {
     "data": {
      "text/plain": [
       "74.14491758241758"
      ]
     },
     "execution_count": 2786,
     "metadata": {},
     "output_type": "execute_result"
    }
   ],
   "source": [
    "file1[file1.park_name == 'Great Smoky']['observations'].mean()"
   ]
  },
  {
   "cell_type": "code",
   "execution_count": 2787,
   "metadata": {},
   "outputs": [],
   "source": [
    "avg_animal = file1[['park_name', 'observations']].groupby('park_name').mean().reset_index()"
   ]
  },
  {
   "cell_type": "code",
   "execution_count": 2788,
   "metadata": {},
   "outputs": [
    {
     "data": {
      "text/html": [
       "<div>\n",
       "<style scoped>\n",
       "    .dataframe tbody tr th:only-of-type {\n",
       "        vertical-align: middle;\n",
       "    }\n",
       "\n",
       "    .dataframe tbody tr th {\n",
       "        vertical-align: top;\n",
       "    }\n",
       "\n",
       "    .dataframe thead th {\n",
       "        text-align: right;\n",
       "    }\n",
       "</style>\n",
       "<table border=\"1\" class=\"dataframe\">\n",
       "  <thead>\n",
       "    <tr style=\"text-align: right;\">\n",
       "      <th></th>\n",
       "      <th>park_name</th>\n",
       "      <th>observations</th>\n",
       "    </tr>\n",
       "  </thead>\n",
       "  <tbody>\n",
       "    <tr>\n",
       "      <th>0</th>\n",
       "      <td>Bryce</td>\n",
       "      <td>98.905391</td>\n",
       "    </tr>\n",
       "    <tr>\n",
       "      <th>1</th>\n",
       "      <td>Great Smoky</td>\n",
       "      <td>74.144918</td>\n",
       "    </tr>\n",
       "    <tr>\n",
       "      <th>2</th>\n",
       "      <td>Yellowstone</td>\n",
       "      <td>247.864354</td>\n",
       "    </tr>\n",
       "    <tr>\n",
       "      <th>3</th>\n",
       "      <td>Yosemite</td>\n",
       "      <td>148.236951</td>\n",
       "    </tr>\n",
       "  </tbody>\n",
       "</table>\n",
       "</div>"
      ],
      "text/plain": [
       "     park_name  observations\n",
       "0        Bryce     98.905391\n",
       "1  Great Smoky     74.144918\n",
       "2  Yellowstone    247.864354\n",
       "3     Yosemite    148.236951"
      ]
     },
     "execution_count": 2788,
     "metadata": {},
     "output_type": "execute_result"
    }
   ],
   "source": [
    "avg_animal"
   ]
  },
  {
   "cell_type": "code",
   "execution_count": 2789,
   "metadata": {},
   "outputs": [],
   "source": [
    "total_animal = file1[['park_name', 'observations']].groupby('park_name').sum().reset_index()"
   ]
  },
  {
   "cell_type": "code",
   "execution_count": 2790,
   "metadata": {},
   "outputs": [
    {
     "data": {
      "text/html": [
       "<div>\n",
       "<style scoped>\n",
       "    .dataframe tbody tr th:only-of-type {\n",
       "        vertical-align: middle;\n",
       "    }\n",
       "\n",
       "    .dataframe tbody tr th {\n",
       "        vertical-align: top;\n",
       "    }\n",
       "\n",
       "    .dataframe thead th {\n",
       "        text-align: right;\n",
       "    }\n",
       "</style>\n",
       "<table border=\"1\" class=\"dataframe\">\n",
       "  <thead>\n",
       "    <tr style=\"text-align: right;\">\n",
       "      <th></th>\n",
       "      <th>park_name</th>\n",
       "      <th>observations</th>\n",
       "    </tr>\n",
       "  </thead>\n",
       "  <tbody>\n",
       "    <tr>\n",
       "      <th>0</th>\n",
       "      <td>Bryce</td>\n",
       "      <td>576025</td>\n",
       "    </tr>\n",
       "    <tr>\n",
       "      <th>1</th>\n",
       "      <td>Great Smoky</td>\n",
       "      <td>431820</td>\n",
       "    </tr>\n",
       "    <tr>\n",
       "      <th>2</th>\n",
       "      <td>Yellowstone</td>\n",
       "      <td>1443562</td>\n",
       "    </tr>\n",
       "    <tr>\n",
       "      <th>3</th>\n",
       "      <td>Yosemite</td>\n",
       "      <td>863332</td>\n",
       "    </tr>\n",
       "  </tbody>\n",
       "</table>\n",
       "</div>"
      ],
      "text/plain": [
       "     park_name  observations\n",
       "0        Bryce        576025\n",
       "1  Great Smoky        431820\n",
       "2  Yellowstone       1443562\n",
       "3     Yosemite        863332"
      ]
     },
     "execution_count": 2790,
     "metadata": {},
     "output_type": "execute_result"
    }
   ],
   "source": [
    "total_animal"
   ]
  },
  {
   "cell_type": "code",
   "execution_count": 2791,
   "metadata": {},
   "outputs": [],
   "source": [
    "total_animal['proportions'] = np.round(total_animal.observations*100 / total_animal.observations.sum(), 2)"
   ]
  },
  {
   "cell_type": "code",
   "execution_count": 2792,
   "metadata": {},
   "outputs": [
    {
     "data": {
      "text/html": [
       "<div>\n",
       "<style scoped>\n",
       "    .dataframe tbody tr th:only-of-type {\n",
       "        vertical-align: middle;\n",
       "    }\n",
       "\n",
       "    .dataframe tbody tr th {\n",
       "        vertical-align: top;\n",
       "    }\n",
       "\n",
       "    .dataframe thead th {\n",
       "        text-align: right;\n",
       "    }\n",
       "</style>\n",
       "<table border=\"1\" class=\"dataframe\">\n",
       "  <thead>\n",
       "    <tr style=\"text-align: right;\">\n",
       "      <th></th>\n",
       "      <th>park_name</th>\n",
       "      <th>observations</th>\n",
       "      <th>proportions</th>\n",
       "    </tr>\n",
       "  </thead>\n",
       "  <tbody>\n",
       "    <tr>\n",
       "      <th>0</th>\n",
       "      <td>Bryce</td>\n",
       "      <td>576025</td>\n",
       "      <td>17.38</td>\n",
       "    </tr>\n",
       "    <tr>\n",
       "      <th>1</th>\n",
       "      <td>Great Smoky</td>\n",
       "      <td>431820</td>\n",
       "      <td>13.03</td>\n",
       "    </tr>\n",
       "    <tr>\n",
       "      <th>2</th>\n",
       "      <td>Yellowstone</td>\n",
       "      <td>1443562</td>\n",
       "      <td>43.55</td>\n",
       "    </tr>\n",
       "    <tr>\n",
       "      <th>3</th>\n",
       "      <td>Yosemite</td>\n",
       "      <td>863332</td>\n",
       "      <td>26.05</td>\n",
       "    </tr>\n",
       "  </tbody>\n",
       "</table>\n",
       "</div>"
      ],
      "text/plain": [
       "     park_name  observations  proportions\n",
       "0        Bryce        576025        17.38\n",
       "1  Great Smoky        431820        13.03\n",
       "2  Yellowstone       1443562        43.55\n",
       "3     Yosemite        863332        26.05"
      ]
     },
     "execution_count": 2792,
     "metadata": {},
     "output_type": "execute_result"
    }
   ],
   "source": [
    "total_animal"
   ]
  },
  {
   "cell_type": "code",
   "execution_count": 2793,
   "metadata": {},
   "outputs": [
    {
     "data": {
      "image/png": "[encoded data removed]",
      "text/plain": [
       "<Figure size 1200x600 with 1 Axes>"
      ]
     },
     "metadata": {},
     "output_type": "display_data"
    },
    {
     "data": {
      "text/plain": [
       "<Figure size 640x480 with 0 Axes>"
      ]
     },
     "metadata": {},
     "output_type": "display_data"
    }
   ],
   "source": [
    "plt.figure(figsize=[12, 6])\n",
    "sns.set_palette('Set1')\n",
    "plt.pie(total_animal['observations'], autopct='%d%%', startangle=90, labels=total_animal.park_name, pctdistance=0.8)\n",
    "plt.title(f'Proportion of {total_animal.observations.sum():,} animals in {len(total_animal.park_name)} National Parks')\n",
    "hole = plt.Circle((0, 0), 0.65, facecolor='lightblue')\n",
    "plt.gcf().gca().add_artist(hole)\n",
    "plt.savefig('donut_animals_parks.png')\n",
    "plt.show()\n",
    "plt.clf()"
   ]
  },
  {
   "cell_type": "code",
   "execution_count": 2794,
   "metadata": {},
   "outputs": [
    {
     "name": "stdout",
     "output_type": "stream",
     "text": [
      "Result: You can see above in the donut chart that more than 2 thirds of the animals living in Yellowstone and Yosemite National Parks\n",
      "while only '30%' live in the other two Parks. Morover almost half of the animals in the examination is from Yellowstone.\n"
     ]
    }
   ],
   "source": [
    "print('''Result: You can see above in the donut chart that more than 2 thirds of the animals living in Yellowstone and Yosemite National Parks\n",
    "while only '30%' live in the other two Parks. Morover almost half of the animals in the examination is from Yellowstone.''')"
   ]
  },
  {
   "cell_type": "code",
   "execution_count": 2795,
   "metadata": {},
   "outputs": [
    {
     "data": {
      "image/png": "[encoded data removed]",
      "text/plain": [
       "<Figure size 1200x600 with 2 Axes>"
      ]
     },
     "metadata": {},
     "output_type": "display_data"
    },
    {
     "data": {
      "text/plain": [
       "<Figure size 640x480 with 0 Axes>"
      ]
     },
     "metadata": {},
     "output_type": "display_data"
    }
   ],
   "source": [
    "plt.figure(figsize=[12,6])\n",
    "plt.subplot(1,2,1)\n",
    "sns.barplot(x='park_name', y='observations', data=avg_animal)\n",
    "plt.title(f'Average number of animals in {avg_animal.park_name.nunique()} National Parks')\n",
    "plt.xlabel('Park')\n",
    "plt.ylabel('Number of animals')\n",
    "plt.xticks(rotation=25)\n",
    "plt.subplot(1,2,2)\n",
    "sns.barplot(x='park_name', y='observations', data=total_animal)\n",
    "plt.title(f'Total number of animals in {total_animal.park_name.nunique()} National Parks')\n",
    "plt.xlabel('Park')\n",
    "plt.ylabel('Number of animals (million)')\n",
    "plt.xticks(rotation=25)\n",
    "plt.savefig('bars_animals_parks.png')\n",
    "plt.show()\n",
    "plt.clf()"
   ]
  },
  {
   "cell_type": "code",
   "execution_count": 2796,
   "metadata": {},
   "outputs": [
    {
     "name": "stdout",
     "output_type": "stream",
     "text": [
      "Result: You can see that the lowest average animal number relates to Great Smokey and the highest belongs to Yellowstone.\n",
      "It seems that the research focused on Yellowstone and Yosemite, but at this time we cannot be sure, because an observation can \n",
      "include 0 and 500 animals for example and we do not know anything about the numbers of the observations successively.\n"
     ]
    }
   ],
   "source": [
    "print('''Result: You can see that the lowest average animal number relates to Great Smokey and the highest belongs to Yellowstone.\n",
    "It seems that the research focused on Yellowstone and Yosemite, but at this time we cannot be sure, because an observation can \n",
    "include 0 and 500 animals for example and we do not know anything about the numbers of the observations successively.''')"
   ]
  },
  {
   "cell_type": "code",
   "execution_count": 2797,
   "metadata": {},
   "outputs": [
    {
     "name": "stdout",
     "output_type": "stream",
     "text": [
      "There are 23,296 observations including 3,314,739 animals total in the sample\n"
     ]
    }
   ],
   "source": [
    "print(f'There are {len(file1.observations):,} observations including {file1.observations.sum():,} animals total in the sample')"
   ]
  },
  {
   "cell_type": "code",
   "execution_count": 2798,
   "metadata": {},
   "outputs": [
    {
     "name": "stdout",
     "output_type": "stream",
     "text": [
      "There are 5541 species among the animals\n"
     ]
    }
   ],
   "source": [
    "print(f'There are {file1.scientific_name.nunique()} species among the animals')"
   ]
  },
  {
   "cell_type": "code",
   "execution_count": 2799,
   "metadata": {},
   "outputs": [
    {
     "name": "stdout",
     "output_type": "stream",
     "text": [
      "The max number of animals in one observation is 321\n",
      "The min number of animals in one observation is 9\n",
      "The average number of animals in one observation is 142\n"
     ]
    }
   ],
   "source": [
    "print(f'The max number of animals in one observation is {file1.observations.max()}')\n",
    "print(f'The min number of animals in one observation is {file1.observations.min()}')\n",
    "print(f'The average number of animals in one observation is {int(file1.observations.mean())}')"
   ]
  },
  {
   "cell_type": "code",
   "execution_count": 2800,
   "metadata": {},
   "outputs": [
    {
     "data": {
      "image/png": "[encoded data removed]",
      "text/plain": [
       "<Figure size 900x600 with 1 Axes>"
      ]
     },
     "metadata": {},
     "output_type": "display_data"
    },
    {
     "data": {
      "text/plain": [
       "<Figure size 640x480 with 0 Axes>"
      ]
     },
     "metadata": {},
     "output_type": "display_data"
    }
   ],
   "source": [
    "plt.figure(figsize=[9, 6])\n",
    "sns.histplot(file1.observations, kde=True, bins=20, color='darkblue')\n",
    "plt.title(f'Histogram of observations in {file1.park_name.nunique()} National Parks including {file1.observations.sum():,} animals')\n",
    "plt.xlabel('Number of animals in one observation (ranges)')\n",
    "plt.ylabel('Number of observations (count)')\n",
    "plt.text(x=190, y=2800, s=f'''Animals between [{file1.observations.min()} - {file1.observations.max()}] per observation''',\n",
    "fontsize=9)\n",
    "plt.axvline(np.mean(file1.observations), color='black')\n",
    "plt.text(x=145, y=2000, s=f'Mean: {int(file1.observations.mean())}', fontsize=8)\n",
    "plt.savefig('hist_observs.png')\n",
    "plt.show()\n",
    "plt.clf()"
   ]
  },
  {
   "cell_type": "code",
   "execution_count": 2801,
   "metadata": {},
   "outputs": [
    {
     "name": "stdout",
     "output_type": "stream",
     "text": [
      "Result: You can see that there are 2 peaks in this distribution, meaning that the highest number of observations\n",
      "have 2 occurences at around 85 animals and 250 animals. Let us examine where are those observations!\n"
     ]
    }
   ],
   "source": [
    "print('''Result: You can see that there are 2 peaks in this distribution, meaning that the highest number of observations\n",
    "have 2 occurences at around 85 animals and 250 animals. Let us examine where are those observations!''')"
   ]
  },
  {
   "cell_type": "code",
   "execution_count": 2802,
   "metadata": {},
   "outputs": [
    {
     "name": "stdout",
     "output_type": "stream",
     "text": [
      "First we calculate the number of observations in the Parks successively.\n"
     ]
    }
   ],
   "source": [
    "print('First we calculate the number of observations in the Parks successively.')"
   ]
  },
  {
   "cell_type": "code",
   "execution_count": 2803,
   "metadata": {},
   "outputs": [],
   "source": [
    "park1 = file1[file1.park_name == 'Great Smoky']\n",
    "park2 = file1[file1.park_name == 'Yosemite']\n",
    "park3 = file1[file1.park_name == 'Bryce']\n",
    "park4 = file1[file1.park_name == 'Yellowstone']"
   ]
  },
  {
   "cell_type": "code",
   "execution_count": 2804,
   "metadata": {},
   "outputs": [],
   "source": [
    "park_all = [park1, park2, park3, park4]"
   ]
  },
  {
   "cell_type": "code",
   "execution_count": 2805,
   "metadata": {
    "scrolled": true
   },
   "outputs": [
    {
     "name": "stdout",
     "output_type": "stream",
     "text": [
      "The number of observations in ['Great Smoky'] Park is 5824\n",
      "The number of observations in ['Yosemite'] Park is 5824\n",
      "The number of observations in ['Bryce'] Park is 5824\n",
      "The number of observations in ['Yellowstone'] Park is 5824\n"
     ]
    }
   ],
   "source": [
    "for park in park_all:\n",
    "    print(f'The number of observations in {park.park_name.unique()} Park is {len(park.observations)}')"
   ]
  },
  {
   "cell_type": "code",
   "execution_count": 2806,
   "metadata": {},
   "outputs": [
    {
     "name": "stdout",
     "output_type": "stream",
     "text": [
      "Final result: The number of observations is exactly the same in every Park. It means that the majority of the \n",
      "observations below 85 animals is related to the Great Smokey Park because of having the lowest average animal number\n",
      "in one observation, and because of the existence of the other observations of other Parks.\n",
      "\n",
      "On the other hand observations with more than 150 animals mostly related to the Yellowstone because we calculated the highest mean of\n",
      "animals among the 4 Parks in that case and there is a relative big difference between the average animal number of Yellostone and Yosemite.\n",
      "It was worth doing some math, and we can also find the min and the max animal numbers of every Park, but that is not a must.\n"
     ]
    }
   ],
   "source": [
    "print('''Final result: The number of observations is exactly the same in every Park. It means that the majority of the \n",
    "observations below 85 animals is related to the Great Smokey Park because of having the lowest average animal number\n",
    "in one observation, and because of the existence of the other observations of other Parks.\n",
    "\n",
    "On the other hand observations with more than 150 animals mostly related to the Yellowstone because we calculated the highest mean of\n",
    "animals among the 4 Parks in that case and there is a relative big difference between the average animal number of Yellostone and Yosemite.\n",
    "It was worth doing some math, and we can also find the min and the max animal numbers of every Park, but that is not a must.''')"
   ]
  },
  {
   "cell_type": "code",
   "execution_count": 2807,
   "metadata": {},
   "outputs": [
    {
     "name": "stdout",
     "output_type": "stream",
     "text": [
      "<class 'pandas.core.frame.DataFrame'>\n",
      "RangeIndex: 5824 entries, 0 to 5823\n",
      "Data columns (total 4 columns):\n",
      " #   Column               Non-Null Count  Dtype \n",
      "---  ------               --------------  ----- \n",
      " 0   category             5824 non-null   object\n",
      " 1   scientific_name      5824 non-null   object\n",
      " 2   common_names         5824 non-null   object\n",
      " 3   conservation_status  191 non-null    object\n",
      "dtypes: object(4)\n",
      "memory usage: 182.1+ KB\n"
     ]
    }
   ],
   "source": [
    "file2.info()"
   ]
  },
  {
   "cell_type": "code",
   "execution_count": 2808,
   "metadata": {},
   "outputs": [
    {
     "data": {
      "text/html": [
       "<div>\n",
       "<style scoped>\n",
       "    .dataframe tbody tr th:only-of-type {\n",
       "        vertical-align: middle;\n",
       "    }\n",
       "\n",
       "    .dataframe tbody tr th {\n",
       "        vertical-align: top;\n",
       "    }\n",
       "\n",
       "    .dataframe thead th {\n",
       "        text-align: right;\n",
       "    }\n",
       "</style>\n",
       "<table border=\"1\" class=\"dataframe\">\n",
       "  <thead>\n",
       "    <tr style=\"text-align: right;\">\n",
       "      <th></th>\n",
       "      <th>category</th>\n",
       "      <th>scientific_name</th>\n",
       "      <th>common_names</th>\n",
       "      <th>conservation_status</th>\n",
       "    </tr>\n",
       "  </thead>\n",
       "  <tbody>\n",
       "    <tr>\n",
       "      <th>0</th>\n",
       "      <td>Mammal</td>\n",
       "      <td>Clethrionomys gapperi gapperi</td>\n",
       "      <td>Gapper's Red-Backed Vole</td>\n",
       "      <td>NaN</td>\n",
       "    </tr>\n",
       "    <tr>\n",
       "      <th>1</th>\n",
       "      <td>Mammal</td>\n",
       "      <td>Bos bison</td>\n",
       "      <td>American Bison, Bison</td>\n",
       "      <td>NaN</td>\n",
       "    </tr>\n",
       "    <tr>\n",
       "      <th>2</th>\n",
       "      <td>Mammal</td>\n",
       "      <td>Bos taurus</td>\n",
       "      <td>Aurochs, Aurochs, Domestic Cattle (Feral), Dom...</td>\n",
       "      <td>NaN</td>\n",
       "    </tr>\n",
       "    <tr>\n",
       "      <th>3</th>\n",
       "      <td>Mammal</td>\n",
       "      <td>Ovis aries</td>\n",
       "      <td>Domestic Sheep, Mouflon, Red Sheep, Sheep (Feral)</td>\n",
       "      <td>NaN</td>\n",
       "    </tr>\n",
       "    <tr>\n",
       "      <th>4</th>\n",
       "      <td>Mammal</td>\n",
       "      <td>Cervus elaphus</td>\n",
       "      <td>Wapiti Or Elk</td>\n",
       "      <td>NaN</td>\n",
       "    </tr>\n",
       "  </tbody>\n",
       "</table>\n",
       "</div>"
      ],
      "text/plain": [
       "  category                scientific_name  \\\n",
       "0   Mammal  Clethrionomys gapperi gapperi   \n",
       "1   Mammal                      Bos bison   \n",
       "2   Mammal                     Bos taurus   \n",
       "3   Mammal                     Ovis aries   \n",
       "4   Mammal                 Cervus elaphus   \n",
       "\n",
       "                                        common_names conservation_status  \n",
       "0                           Gapper's Red-Backed Vole                 NaN  \n",
       "1                              American Bison, Bison                 NaN  \n",
       "2  Aurochs, Aurochs, Domestic Cattle (Feral), Dom...                 NaN  \n",
       "3  Domestic Sheep, Mouflon, Red Sheep, Sheep (Feral)                 NaN  \n",
       "4                                      Wapiti Or Elk                 NaN  "
      ]
     },
     "execution_count": 2808,
     "metadata": {},
     "output_type": "execute_result"
    }
   ],
   "source": [
    "file2.head()"
   ]
  },
  {
   "cell_type": "code",
   "execution_count": 2809,
   "metadata": {},
   "outputs": [
    {
     "data": {
      "text/plain": [
       "category                  7\n",
       "scientific_name        5541\n",
       "common_names           5504\n",
       "conservation_status       4\n",
       "dtype: int64"
      ]
     },
     "execution_count": 2809,
     "metadata": {},
     "output_type": "execute_result"
    }
   ],
   "source": [
    "file2.nunique()"
   ]
  },
  {
   "cell_type": "code",
   "execution_count": 2810,
   "metadata": {},
   "outputs": [
    {
     "data": {
      "text/plain": [
       "True"
      ]
     },
     "execution_count": 2810,
     "metadata": {},
     "output_type": "execute_result"
    }
   ],
   "source": [
    "file2.scientific_name.nunique() == file1.scientific_name.nunique()"
   ]
  },
  {
   "cell_type": "code",
   "execution_count": 2811,
   "metadata": {},
   "outputs": [
    {
     "data": {
      "text/plain": [
       "283"
      ]
     },
     "execution_count": 2811,
     "metadata": {},
     "output_type": "execute_result"
    }
   ],
   "source": [
    "len(file2.scientific_name) - file2.scientific_name.nunique()"
   ]
  },
  {
   "cell_type": "code",
   "execution_count": 2812,
   "metadata": {},
   "outputs": [
    {
     "data": {
      "text/plain": [
       "False    5541\n",
       "True      283\n",
       "dtype: int64"
      ]
     },
     "execution_count": 2812,
     "metadata": {},
     "output_type": "execute_result"
    }
   ],
   "source": [
    "file2.duplicated(subset='scientific_name').value_counts()"
   ]
  },
  {
   "cell_type": "code",
   "execution_count": 2813,
   "metadata": {},
   "outputs": [
    {
     "data": {
      "text/plain": [
       "283"
      ]
     },
     "execution_count": 2813,
     "metadata": {},
     "output_type": "execute_result"
    }
   ],
   "source": [
    "file2.duplicated(subset='scientific_name').value_counts().loc[True]"
   ]
  },
  {
   "cell_type": "code",
   "execution_count": 2814,
   "metadata": {},
   "outputs": [],
   "source": [
    "file2 = file2.drop_duplicates(subset='scientific_name')"
   ]
  },
  {
   "cell_type": "code",
   "execution_count": 2815,
   "metadata": {},
   "outputs": [
    {
     "data": {
      "text/plain": [
       "False    5541\n",
       "dtype: int64"
      ]
     },
     "execution_count": 2815,
     "metadata": {},
     "output_type": "execute_result"
    }
   ],
   "source": [
    "file2.duplicated(subset='scientific_name').value_counts()"
   ]
  },
  {
   "cell_type": "code",
   "execution_count": 2816,
   "metadata": {},
   "outputs": [
    {
     "name": "stdout",
     "output_type": "stream",
     "text": [
      "<class 'pandas.core.frame.DataFrame'>\n",
      "Int64Index: 5541 entries, 0 to 5823\n",
      "Data columns (total 4 columns):\n",
      " #   Column               Non-Null Count  Dtype \n",
      "---  ------               --------------  ----- \n",
      " 0   category             5541 non-null   object\n",
      " 1   scientific_name      5541 non-null   object\n",
      " 2   common_names         5541 non-null   object\n",
      " 3   conservation_status  178 non-null    object\n",
      "dtypes: object(4)\n",
      "memory usage: 216.4+ KB\n"
     ]
    }
   ],
   "source": [
    "file2.info()"
   ]
  },
  {
   "cell_type": "code",
   "execution_count": 2817,
   "metadata": {},
   "outputs": [
    {
     "data": {
      "text/plain": [
       "array([nan, 'Species of Concern', 'Endangered', 'Threatened',\n",
       "       'In Recovery'], dtype=object)"
      ]
     },
     "execution_count": 2817,
     "metadata": {},
     "output_type": "execute_result"
    }
   ],
   "source": [
    "file2.conservation_status.unique()"
   ]
  },
  {
   "cell_type": "code",
   "execution_count": 2818,
   "metadata": {},
   "outputs": [],
   "source": [
    "concerned_species = file2[~file2.conservation_status.isna()].reset_index()"
   ]
  },
  {
   "cell_type": "code",
   "execution_count": 2819,
   "metadata": {
    "scrolled": false
   },
   "outputs": [
    {
     "data": {
      "text/html": [
       "<div>\n",
       "<style scoped>\n",
       "    .dataframe tbody tr th:only-of-type {\n",
       "        vertical-align: middle;\n",
       "    }\n",
       "\n",
       "    .dataframe tbody tr th {\n",
       "        vertical-align: top;\n",
       "    }\n",
       "\n",
       "    .dataframe thead th {\n",
       "        text-align: right;\n",
       "    }\n",
       "</style>\n",
       "<table border=\"1\" class=\"dataframe\">\n",
       "  <thead>\n",
       "    <tr style=\"text-align: right;\">\n",
       "      <th></th>\n",
       "      <th>index</th>\n",
       "      <th>category</th>\n",
       "      <th>scientific_name</th>\n",
       "      <th>common_names</th>\n",
       "      <th>conservation_status</th>\n",
       "    </tr>\n",
       "  </thead>\n",
       "  <tbody>\n",
       "    <tr>\n",
       "      <th>0</th>\n",
       "      <td>7</td>\n",
       "      <td>Mammal</td>\n",
       "      <td>Canis latrans</td>\n",
       "      <td>Coyote</td>\n",
       "      <td>Species of Concern</td>\n",
       "    </tr>\n",
       "    <tr>\n",
       "      <th>1</th>\n",
       "      <td>8</td>\n",
       "      <td>Mammal</td>\n",
       "      <td>Canis lupus</td>\n",
       "      <td>Gray Wolf</td>\n",
       "      <td>Endangered</td>\n",
       "    </tr>\n",
       "    <tr>\n",
       "      <th>2</th>\n",
       "      <td>9</td>\n",
       "      <td>Mammal</td>\n",
       "      <td>Canis rufus</td>\n",
       "      <td>Red Wolf</td>\n",
       "      <td>Endangered</td>\n",
       "    </tr>\n",
       "    <tr>\n",
       "      <th>3</th>\n",
       "      <td>29</td>\n",
       "      <td>Mammal</td>\n",
       "      <td>Eptesicus fuscus</td>\n",
       "      <td>Big Brown Bat</td>\n",
       "      <td>Species of Concern</td>\n",
       "    </tr>\n",
       "    <tr>\n",
       "      <th>4</th>\n",
       "      <td>30</td>\n",
       "      <td>Mammal</td>\n",
       "      <td>Lasionycteris noctivagans</td>\n",
       "      <td>Silver-Haired Bat</td>\n",
       "      <td>Species of Concern</td>\n",
       "    </tr>\n",
       "    <tr>\n",
       "      <th>...</th>\n",
       "      <td>...</td>\n",
       "      <td>...</td>\n",
       "      <td>...</td>\n",
       "      <td>...</td>\n",
       "      <td>...</td>\n",
       "    </tr>\n",
       "    <tr>\n",
       "      <th>173</th>\n",
       "      <td>5302</td>\n",
       "      <td>Vascular Plant</td>\n",
       "      <td>Callitriche marginata</td>\n",
       "      <td>Winged Water-Starwort</td>\n",
       "      <td>Species of Concern</td>\n",
       "    </tr>\n",
       "    <tr>\n",
       "      <th>174</th>\n",
       "      <td>5399</td>\n",
       "      <td>Vascular Plant</td>\n",
       "      <td>Camissonia sierrae ssp. alticola</td>\n",
       "      <td>Mono Hot Springs Evening Primrose, Mono Hot Sp...</td>\n",
       "      <td>Species of Concern</td>\n",
       "    </tr>\n",
       "    <tr>\n",
       "      <th>175</th>\n",
       "      <td>5426</td>\n",
       "      <td>Vascular Plant</td>\n",
       "      <td>Epilobium oreganum</td>\n",
       "      <td>Grants Pass Willowherb, Oregon Fireweed</td>\n",
       "      <td>Species of Concern</td>\n",
       "    </tr>\n",
       "    <tr>\n",
       "      <th>176</th>\n",
       "      <td>5436</td>\n",
       "      <td>Vascular Plant</td>\n",
       "      <td>Botrychium ascendens</td>\n",
       "      <td>Trianglelobe Moonwort, Upswept Moonwort</td>\n",
       "      <td>Species of Concern</td>\n",
       "    </tr>\n",
       "    <tr>\n",
       "      <th>177</th>\n",
       "      <td>5676</td>\n",
       "      <td>Vascular Plant</td>\n",
       "      <td>Romneya coulteri</td>\n",
       "      <td>Coulter's Matilija Poppy</td>\n",
       "      <td>Species of Concern</td>\n",
       "    </tr>\n",
       "  </tbody>\n",
       "</table>\n",
       "<p>178 rows × 5 columns</p>\n",
       "</div>"
      ],
      "text/plain": [
       "     index        category                   scientific_name  \\\n",
       "0        7          Mammal                     Canis latrans   \n",
       "1        8          Mammal                       Canis lupus   \n",
       "2        9          Mammal                       Canis rufus   \n",
       "3       29          Mammal                  Eptesicus fuscus   \n",
       "4       30          Mammal         Lasionycteris noctivagans   \n",
       "..     ...             ...                               ...   \n",
       "173   5302  Vascular Plant             Callitriche marginata   \n",
       "174   5399  Vascular Plant  Camissonia sierrae ssp. alticola   \n",
       "175   5426  Vascular Plant                Epilobium oreganum   \n",
       "176   5436  Vascular Plant              Botrychium ascendens   \n",
       "177   5676  Vascular Plant                  Romneya coulteri   \n",
       "\n",
       "                                          common_names conservation_status  \n",
       "0                                               Coyote  Species of Concern  \n",
       "1                                            Gray Wolf          Endangered  \n",
       "2                                             Red Wolf          Endangered  \n",
       "3                                        Big Brown Bat  Species of Concern  \n",
       "4                                    Silver-Haired Bat  Species of Concern  \n",
       "..                                                 ...                 ...  \n",
       "173                              Winged Water-Starwort  Species of Concern  \n",
       "174  Mono Hot Springs Evening Primrose, Mono Hot Sp...  Species of Concern  \n",
       "175            Grants Pass Willowherb, Oregon Fireweed  Species of Concern  \n",
       "176            Trianglelobe Moonwort, Upswept Moonwort  Species of Concern  \n",
       "177                           Coulter's Matilija Poppy  Species of Concern  \n",
       "\n",
       "[178 rows x 5 columns]"
      ]
     },
     "execution_count": 2819,
     "metadata": {},
     "output_type": "execute_result"
    }
   ],
   "source": [
    "concerned_species"
   ]
  },
  {
   "cell_type": "code",
   "execution_count": 2820,
   "metadata": {},
   "outputs": [
    {
     "data": {
      "text/plain": [
       "array(['Mammal', 'Bird', 'Reptile', 'Amphibian', 'Fish', 'Vascular Plant',\n",
       "       'Nonvascular Plant'], dtype=object)"
      ]
     },
     "execution_count": 2820,
     "metadata": {},
     "output_type": "execute_result"
    }
   ],
   "source": [
    "concerned_species['category'].unique()"
   ]
  },
  {
   "cell_type": "code",
   "execution_count": 2821,
   "metadata": {},
   "outputs": [
    {
     "data": {
      "text/plain": [
       "array(['Species of Concern', 'Endangered', 'Threatened', 'In Recovery'],\n",
       "      dtype=object)"
      ]
     },
     "execution_count": 2821,
     "metadata": {},
     "output_type": "execute_result"
    }
   ],
   "source": [
    "concerned_species['conservation_status'].unique()"
   ]
  },
  {
   "cell_type": "code",
   "execution_count": 2822,
   "metadata": {},
   "outputs": [
    {
     "name": "stdout",
     "output_type": "stream",
     "text": [
      "The number of \"concerned\" species is 178\n"
     ]
    }
   ],
   "source": [
    "print(f'The number of \"concerned\" species is {len(file2.scientific_name[~file2.conservation_status.isna()])}')"
   ]
  },
  {
   "cell_type": "code",
   "execution_count": 2823,
   "metadata": {},
   "outputs": [
    {
     "name": "stdout",
     "output_type": "stream",
     "text": [
      "Or 178, or 178\n"
     ]
    }
   ],
   "source": [
    "print('Or {}, or {}'.format(concerned_species.scientific_name.nunique(), len(concerned_species.scientific_name)))"
   ]
  },
  {
   "cell_type": "code",
   "execution_count": 2824,
   "metadata": {},
   "outputs": [],
   "source": [
    "newdf = file1.merge(concerned_species, how='left')"
   ]
  },
  {
   "cell_type": "code",
   "execution_count": 2825,
   "metadata": {},
   "outputs": [
    {
     "data": {
      "text/html": [
       "<div>\n",
       "<style scoped>\n",
       "    .dataframe tbody tr th:only-of-type {\n",
       "        vertical-align: middle;\n",
       "    }\n",
       "\n",
       "    .dataframe tbody tr th {\n",
       "        vertical-align: top;\n",
       "    }\n",
       "\n",
       "    .dataframe thead th {\n",
       "        text-align: right;\n",
       "    }\n",
       "</style>\n",
       "<table border=\"1\" class=\"dataframe\">\n",
       "  <thead>\n",
       "    <tr style=\"text-align: right;\">\n",
       "      <th></th>\n",
       "      <th>scientific_name</th>\n",
       "      <th>park_name</th>\n",
       "      <th>observations</th>\n",
       "      <th>index</th>\n",
       "      <th>category</th>\n",
       "      <th>common_names</th>\n",
       "      <th>conservation_status</th>\n",
       "    </tr>\n",
       "  </thead>\n",
       "  <tbody>\n",
       "    <tr>\n",
       "      <th>0</th>\n",
       "      <td>Vicia benghalensis</td>\n",
       "      <td>Great Smoky</td>\n",
       "      <td>68</td>\n",
       "      <td>NaN</td>\n",
       "      <td>NaN</td>\n",
       "      <td>NaN</td>\n",
       "      <td>NaN</td>\n",
       "    </tr>\n",
       "    <tr>\n",
       "      <th>1</th>\n",
       "      <td>Neovison vison</td>\n",
       "      <td>Great Smoky</td>\n",
       "      <td>77</td>\n",
       "      <td>NaN</td>\n",
       "      <td>NaN</td>\n",
       "      <td>NaN</td>\n",
       "      <td>NaN</td>\n",
       "    </tr>\n",
       "    <tr>\n",
       "      <th>2</th>\n",
       "      <td>Prunus subcordata</td>\n",
       "      <td>Yosemite</td>\n",
       "      <td>138</td>\n",
       "      <td>NaN</td>\n",
       "      <td>NaN</td>\n",
       "      <td>NaN</td>\n",
       "      <td>NaN</td>\n",
       "    </tr>\n",
       "    <tr>\n",
       "      <th>3</th>\n",
       "      <td>Abutilon theophrasti</td>\n",
       "      <td>Bryce</td>\n",
       "      <td>84</td>\n",
       "      <td>NaN</td>\n",
       "      <td>NaN</td>\n",
       "      <td>NaN</td>\n",
       "      <td>NaN</td>\n",
       "    </tr>\n",
       "    <tr>\n",
       "      <th>4</th>\n",
       "      <td>Githopsis specularioides</td>\n",
       "      <td>Great Smoky</td>\n",
       "      <td>85</td>\n",
       "      <td>NaN</td>\n",
       "      <td>NaN</td>\n",
       "      <td>NaN</td>\n",
       "      <td>NaN</td>\n",
       "    </tr>\n",
       "  </tbody>\n",
       "</table>\n",
       "</div>"
      ],
      "text/plain": [
       "            scientific_name    park_name  observations  index category  \\\n",
       "0        Vicia benghalensis  Great Smoky            68    NaN      NaN   \n",
       "1            Neovison vison  Great Smoky            77    NaN      NaN   \n",
       "2         Prunus subcordata     Yosemite           138    NaN      NaN   \n",
       "3      Abutilon theophrasti        Bryce            84    NaN      NaN   \n",
       "4  Githopsis specularioides  Great Smoky            85    NaN      NaN   \n",
       "\n",
       "  common_names conservation_status  \n",
       "0          NaN                 NaN  \n",
       "1          NaN                 NaN  \n",
       "2          NaN                 NaN  \n",
       "3          NaN                 NaN  \n",
       "4          NaN                 NaN  "
      ]
     },
     "execution_count": 2825,
     "metadata": {},
     "output_type": "execute_result"
    }
   ],
   "source": [
    "newdf.head()"
   ]
  },
  {
   "cell_type": "code",
   "execution_count": 2826,
   "metadata": {},
   "outputs": [
    {
     "name": "stdout",
     "output_type": "stream",
     "text": [
      "<class 'pandas.core.frame.DataFrame'>\n",
      "Int64Index: 23296 entries, 0 to 23295\n",
      "Data columns (total 7 columns):\n",
      " #   Column               Non-Null Count  Dtype  \n",
      "---  ------               --------------  -----  \n",
      " 0   scientific_name      23296 non-null  object \n",
      " 1   park_name            23296 non-null  object \n",
      " 2   observations         23296 non-null  int64  \n",
      " 3   index                760 non-null    float64\n",
      " 4   category             760 non-null    object \n",
      " 5   common_names         760 non-null    object \n",
      " 6   conservation_status  760 non-null    object \n",
      "dtypes: float64(1), int64(1), object(5)\n",
      "memory usage: 1.4+ MB\n"
     ]
    }
   ],
   "source": [
    "newdf.info()"
   ]
  },
  {
   "cell_type": "code",
   "execution_count": 2827,
   "metadata": {},
   "outputs": [],
   "source": [
    "newdf_values = newdf[~newdf.index.isna() & ~newdf.category.isna() & ~newdf.common_names.isna() & ~newdf.conservation_status.isna()].reset_index()"
   ]
  },
  {
   "cell_type": "code",
   "execution_count": 2828,
   "metadata": {},
   "outputs": [
    {
     "name": "stdout",
     "output_type": "stream",
     "text": [
      "<class 'pandas.core.frame.DataFrame'>\n",
      "RangeIndex: 760 entries, 0 to 759\n",
      "Data columns (total 8 columns):\n",
      " #   Column               Non-Null Count  Dtype  \n",
      "---  ------               --------------  -----  \n",
      " 0   level_0              760 non-null    int64  \n",
      " 1   scientific_name      760 non-null    object \n",
      " 2   park_name            760 non-null    object \n",
      " 3   observations         760 non-null    int64  \n",
      " 4   index                760 non-null    float64\n",
      " 5   category             760 non-null    object \n",
      " 6   common_names         760 non-null    object \n",
      " 7   conservation_status  760 non-null    object \n",
      "dtypes: float64(1), int64(2), object(5)\n",
      "memory usage: 47.6+ KB\n"
     ]
    }
   ],
   "source": [
    "newdf_values.info()"
   ]
  },
  {
   "cell_type": "code",
   "execution_count": 2829,
   "metadata": {},
   "outputs": [],
   "source": [
    "newdf_values = newdf_values.drop(['level_0', 'index'], axis=1)"
   ]
  },
  {
   "cell_type": "code",
   "execution_count": 2830,
   "metadata": {},
   "outputs": [
    {
     "name": "stdout",
     "output_type": "stream",
     "text": [
      "<class 'pandas.core.frame.DataFrame'>\n",
      "RangeIndex: 760 entries, 0 to 759\n",
      "Data columns (total 6 columns):\n",
      " #   Column               Non-Null Count  Dtype \n",
      "---  ------               --------------  ----- \n",
      " 0   scientific_name      760 non-null    object\n",
      " 1   park_name            760 non-null    object\n",
      " 2   observations         760 non-null    int64 \n",
      " 3   category             760 non-null    object\n",
      " 4   common_names         760 non-null    object\n",
      " 5   conservation_status  760 non-null    object\n",
      "dtypes: int64(1), object(5)\n",
      "memory usage: 35.8+ KB\n"
     ]
    }
   ],
   "source": [
    "newdf_values.info()"
   ]
  },
  {
   "cell_type": "code",
   "execution_count": 2831,
   "metadata": {},
   "outputs": [
    {
     "data": {
      "text/html": [
       "<div>\n",
       "<style scoped>\n",
       "    .dataframe tbody tr th:only-of-type {\n",
       "        vertical-align: middle;\n",
       "    }\n",
       "\n",
       "    .dataframe tbody tr th {\n",
       "        vertical-align: top;\n",
       "    }\n",
       "\n",
       "    .dataframe thead th {\n",
       "        text-align: right;\n",
       "    }\n",
       "</style>\n",
       "<table border=\"1\" class=\"dataframe\">\n",
       "  <thead>\n",
       "    <tr style=\"text-align: right;\">\n",
       "      <th></th>\n",
       "      <th>scientific_name</th>\n",
       "      <th>park_name</th>\n",
       "      <th>observations</th>\n",
       "      <th>category</th>\n",
       "      <th>common_names</th>\n",
       "      <th>conservation_status</th>\n",
       "    </tr>\n",
       "  </thead>\n",
       "  <tbody>\n",
       "    <tr>\n",
       "      <th>0</th>\n",
       "      <td>Zizia trifoliata</td>\n",
       "      <td>Yosemite</td>\n",
       "      <td>135</td>\n",
       "      <td>Vascular Plant</td>\n",
       "      <td>Meadow Alexanders, Three-Leaved Golden Alexanders</td>\n",
       "      <td>Species of Concern</td>\n",
       "    </tr>\n",
       "    <tr>\n",
       "      <th>1</th>\n",
       "      <td>Camissonia sierrae ssp. alticola</td>\n",
       "      <td>Bryce</td>\n",
       "      <td>84</td>\n",
       "      <td>Vascular Plant</td>\n",
       "      <td>Mono Hot Springs Evening Primrose, Mono Hot Sp...</td>\n",
       "      <td>Species of Concern</td>\n",
       "    </tr>\n",
       "    <tr>\n",
       "      <th>2</th>\n",
       "      <td>Tofieldia glabra</td>\n",
       "      <td>Great Smoky</td>\n",
       "      <td>75</td>\n",
       "      <td>Vascular Plant</td>\n",
       "      <td>Smooth Bog-Asphodel, Smooth Tofieldia</td>\n",
       "      <td>Species of Concern</td>\n",
       "    </tr>\n",
       "    <tr>\n",
       "      <th>3</th>\n",
       "      <td>Accipiter cooperii</td>\n",
       "      <td>Bryce</td>\n",
       "      <td>95</td>\n",
       "      <td>Bird</td>\n",
       "      <td>Cooper's Hawk</td>\n",
       "      <td>Species of Concern</td>\n",
       "    </tr>\n",
       "    <tr>\n",
       "      <th>4</th>\n",
       "      <td>Dichanthelium acuminatum var. acuminatum</td>\n",
       "      <td>Yosemite</td>\n",
       "      <td>123</td>\n",
       "      <td>Vascular Plant</td>\n",
       "      <td>Tapered Rosette Grass</td>\n",
       "      <td>Species of Concern</td>\n",
       "    </tr>\n",
       "  </tbody>\n",
       "</table>\n",
       "</div>"
      ],
      "text/plain": [
       "                            scientific_name    park_name  observations  \\\n",
       "0                          Zizia trifoliata     Yosemite           135   \n",
       "1          Camissonia sierrae ssp. alticola        Bryce            84   \n",
       "2                          Tofieldia glabra  Great Smoky            75   \n",
       "3                        Accipiter cooperii        Bryce            95   \n",
       "4  Dichanthelium acuminatum var. acuminatum     Yosemite           123   \n",
       "\n",
       "         category                                       common_names  \\\n",
       "0  Vascular Plant  Meadow Alexanders, Three-Leaved Golden Alexanders   \n",
       "1  Vascular Plant  Mono Hot Springs Evening Primrose, Mono Hot Sp...   \n",
       "2  Vascular Plant              Smooth Bog-Asphodel, Smooth Tofieldia   \n",
       "3            Bird                                      Cooper's Hawk   \n",
       "4  Vascular Plant                              Tapered Rosette Grass   \n",
       "\n",
       "  conservation_status  \n",
       "0  Species of Concern  \n",
       "1  Species of Concern  \n",
       "2  Species of Concern  \n",
       "3  Species of Concern  \n",
       "4  Species of Concern  "
      ]
     },
     "execution_count": 2831,
     "metadata": {},
     "output_type": "execute_result"
    }
   ],
   "source": [
    "newdf_values.head()"
   ]
  },
  {
   "cell_type": "code",
   "execution_count": 2832,
   "metadata": {},
   "outputs": [],
   "source": [
    "concerned_animals = newdf_values[['park_name', 'observations']].groupby('park_name').sum().reset_index()"
   ]
  },
  {
   "cell_type": "code",
   "execution_count": 2833,
   "metadata": {},
   "outputs": [
    {
     "data": {
      "image/png": "[encoded data removed]",
      "text/plain": [
       "<Figure size 600x600 with 1 Axes>"
      ]
     },
     "metadata": {},
     "output_type": "display_data"
    },
    {
     "data": {
      "text/plain": [
       "<Figure size 640x480 with 0 Axes>"
      ]
     },
     "metadata": {},
     "output_type": "display_data"
    }
   ],
   "source": [
    "plt.figure(figsize=[6,6])\n",
    "sns.barplot(x='park_name', y='observations', data=concerned_animals)\n",
    "plt.title(f'Proportion of \"concerned\" animals in {concerned_animals.park_name.nunique()} National Parks')\n",
    "plt.xlabel('Park')\n",
    "plt.ylabel('Number of animals')\n",
    "plt.xticks(rotation=25)\n",
    "plt.savefig('bar_concern_anims.png')\n",
    "plt.show()\n",
    "plt.clf()"
   ]
  },
  {
   "cell_type": "code",
   "execution_count": 2834,
   "metadata": {},
   "outputs": [
    {
     "name": "stdout",
     "output_type": "stream",
     "text": [
      "Result: As expected in Yellowstone the proportion of \"concerned\" animals is the highest.\n",
      "This chart follows the previous chart, meaning the ratios are - we can say - the same.\n"
     ]
    }
   ],
   "source": [
    "print('''Result: As expected in Yellowstone the proportion of \"concerned\" animals is the highest.\n",
    "This chart follows the previous chart, meaning the ratios are - we can say - the same.''')"
   ]
  },
  {
   "cell_type": "code",
   "execution_count": 2835,
   "metadata": {},
   "outputs": [
    {
     "data": {
      "image/png": "[encoded data removed]",
      "text/plain": [
       "<Figure size 1200x600 with 1 Axes>"
      ]
     },
     "metadata": {},
     "output_type": "display_data"
    },
    {
     "data": {
      "text/plain": [
       "<Figure size 640x480 with 0 Axes>"
      ]
     },
     "metadata": {},
     "output_type": "display_data"
    }
   ],
   "source": [
    "plt.figure(figsize=[12, 6])\n",
    "plt.pie(concerned_animals['observations'], autopct='%d%%', startangle=90, labels=concerned_animals.park_name, pctdistance=0.8)\n",
    "plt.title(f'Proportion of {concerned_animals.observations.sum():,} \"concerned\" animals in {len(concerned_animals.park_name)} National Parks')\n",
    "hole = plt.Circle((0, 0), 0.65, facecolor='lightblue')\n",
    "plt.gcf().gca().add_artist(hole)\n",
    "plt.savefig('donut_concern_anims.png')\n",
    "plt.show()\n",
    "plt.clf()"
   ]
  },
  {
   "cell_type": "code",
   "execution_count": 2836,
   "metadata": {},
   "outputs": [],
   "source": [
    "a = np.round(100*concerned_animals.observations.sum()/file1.observations.sum(),2)"
   ]
  },
  {
   "cell_type": "code",
   "execution_count": 2837,
   "metadata": {},
   "outputs": [
    {
     "name": "stdout",
     "output_type": "stream",
     "text": [
      "Here you can see again the proportions of \"concerned\" animals of every Park, and you can also find out that 2.69% of the\n",
      "total animals in this sample are \"concerned\" somehow, which is a measurable number if we recall the total is more than 3 million.\n"
     ]
    }
   ],
   "source": [
    "print(f'''Here you can see again the proportions of \"concerned\" animals of every Park, and you can also find out that {a}% of the\n",
    "total animals in this sample are \"concerned\" somehow, which is a measurable number if we recall the total is more than 3 million.''')"
   ]
  },
  {
   "cell_type": "code",
   "execution_count": 2838,
   "metadata": {},
   "outputs": [
    {
     "data": {
      "text/html": [
       "<div>\n",
       "<style scoped>\n",
       "    .dataframe tbody tr th:only-of-type {\n",
       "        vertical-align: middle;\n",
       "    }\n",
       "\n",
       "    .dataframe tbody tr th {\n",
       "        vertical-align: top;\n",
       "    }\n",
       "\n",
       "    .dataframe thead th {\n",
       "        text-align: right;\n",
       "    }\n",
       "</style>\n",
       "<table border=\"1\" class=\"dataframe\">\n",
       "  <thead>\n",
       "    <tr style=\"text-align: right;\">\n",
       "      <th></th>\n",
       "      <th>scientific_name</th>\n",
       "      <th>park_name</th>\n",
       "      <th>observations</th>\n",
       "      <th>category</th>\n",
       "      <th>common_names</th>\n",
       "      <th>conservation_status</th>\n",
       "    </tr>\n",
       "  </thead>\n",
       "  <tbody>\n",
       "    <tr>\n",
       "      <th>0</th>\n",
       "      <td>Zizia trifoliata</td>\n",
       "      <td>Yosemite</td>\n",
       "      <td>135</td>\n",
       "      <td>Vascular Plant</td>\n",
       "      <td>Meadow Alexanders, Three-Leaved Golden Alexanders</td>\n",
       "      <td>Species of Concern</td>\n",
       "    </tr>\n",
       "    <tr>\n",
       "      <th>1</th>\n",
       "      <td>Camissonia sierrae ssp. alticola</td>\n",
       "      <td>Bryce</td>\n",
       "      <td>84</td>\n",
       "      <td>Vascular Plant</td>\n",
       "      <td>Mono Hot Springs Evening Primrose, Mono Hot Sp...</td>\n",
       "      <td>Species of Concern</td>\n",
       "    </tr>\n",
       "    <tr>\n",
       "      <th>2</th>\n",
       "      <td>Tofieldia glabra</td>\n",
       "      <td>Great Smoky</td>\n",
       "      <td>75</td>\n",
       "      <td>Vascular Plant</td>\n",
       "      <td>Smooth Bog-Asphodel, Smooth Tofieldia</td>\n",
       "      <td>Species of Concern</td>\n",
       "    </tr>\n",
       "    <tr>\n",
       "      <th>3</th>\n",
       "      <td>Accipiter cooperii</td>\n",
       "      <td>Bryce</td>\n",
       "      <td>95</td>\n",
       "      <td>Bird</td>\n",
       "      <td>Cooper's Hawk</td>\n",
       "      <td>Species of Concern</td>\n",
       "    </tr>\n",
       "    <tr>\n",
       "      <th>4</th>\n",
       "      <td>Dichanthelium acuminatum var. acuminatum</td>\n",
       "      <td>Yosemite</td>\n",
       "      <td>123</td>\n",
       "      <td>Vascular Plant</td>\n",
       "      <td>Tapered Rosette Grass</td>\n",
       "      <td>Species of Concern</td>\n",
       "    </tr>\n",
       "  </tbody>\n",
       "</table>\n",
       "</div>"
      ],
      "text/plain": [
       "                            scientific_name    park_name  observations  \\\n",
       "0                          Zizia trifoliata     Yosemite           135   \n",
       "1          Camissonia sierrae ssp. alticola        Bryce            84   \n",
       "2                          Tofieldia glabra  Great Smoky            75   \n",
       "3                        Accipiter cooperii        Bryce            95   \n",
       "4  Dichanthelium acuminatum var. acuminatum     Yosemite           123   \n",
       "\n",
       "         category                                       common_names  \\\n",
       "0  Vascular Plant  Meadow Alexanders, Three-Leaved Golden Alexanders   \n",
       "1  Vascular Plant  Mono Hot Springs Evening Primrose, Mono Hot Sp...   \n",
       "2  Vascular Plant              Smooth Bog-Asphodel, Smooth Tofieldia   \n",
       "3            Bird                                      Cooper's Hawk   \n",
       "4  Vascular Plant                              Tapered Rosette Grass   \n",
       "\n",
       "  conservation_status  \n",
       "0  Species of Concern  \n",
       "1  Species of Concern  \n",
       "2  Species of Concern  \n",
       "3  Species of Concern  \n",
       "4  Species of Concern  "
      ]
     },
     "execution_count": 2838,
     "metadata": {},
     "output_type": "execute_result"
    }
   ],
   "source": [
    "newdf_values.head()"
   ]
  },
  {
   "cell_type": "code",
   "execution_count": 2839,
   "metadata": {},
   "outputs": [],
   "source": [
    "grouped_cat = newdf_values[['category', 'observations']].groupby('category').sum().reset_index()"
   ]
  },
  {
   "cell_type": "code",
   "execution_count": 2840,
   "metadata": {},
   "outputs": [
    {
     "data": {
      "text/html": [
       "<div>\n",
       "<style scoped>\n",
       "    .dataframe tbody tr th:only-of-type {\n",
       "        vertical-align: middle;\n",
       "    }\n",
       "\n",
       "    .dataframe tbody tr th {\n",
       "        vertical-align: top;\n",
       "    }\n",
       "\n",
       "    .dataframe thead th {\n",
       "        text-align: right;\n",
       "    }\n",
       "</style>\n",
       "<table border=\"1\" class=\"dataframe\">\n",
       "  <thead>\n",
       "    <tr style=\"text-align: right;\">\n",
       "      <th></th>\n",
       "      <th>category</th>\n",
       "      <th>observations</th>\n",
       "    </tr>\n",
       "  </thead>\n",
       "  <tbody>\n",
       "    <tr>\n",
       "      <th>0</th>\n",
       "      <td>Amphibian</td>\n",
       "      <td>2752</td>\n",
       "    </tr>\n",
       "    <tr>\n",
       "      <th>1</th>\n",
       "      <td>Bird</td>\n",
       "      <td>38608</td>\n",
       "    </tr>\n",
       "    <tr>\n",
       "      <th>2</th>\n",
       "      <td>Fish</td>\n",
       "      <td>3396</td>\n",
       "    </tr>\n",
       "    <tr>\n",
       "      <th>3</th>\n",
       "      <td>Mammal</td>\n",
       "      <td>16449</td>\n",
       "    </tr>\n",
       "    <tr>\n",
       "      <th>4</th>\n",
       "      <td>Nonvascular Plant</td>\n",
       "      <td>2705</td>\n",
       "    </tr>\n",
       "    <tr>\n",
       "      <th>5</th>\n",
       "      <td>Reptile</td>\n",
       "      <td>2536</td>\n",
       "    </tr>\n",
       "    <tr>\n",
       "      <th>6</th>\n",
       "      <td>Vascular Plant</td>\n",
       "      <td>22849</td>\n",
       "    </tr>\n",
       "  </tbody>\n",
       "</table>\n",
       "</div>"
      ],
      "text/plain": [
       "            category  observations\n",
       "0          Amphibian          2752\n",
       "1               Bird         38608\n",
       "2               Fish          3396\n",
       "3             Mammal         16449\n",
       "4  Nonvascular Plant          2705\n",
       "5            Reptile          2536\n",
       "6     Vascular Plant         22849"
      ]
     },
     "execution_count": 2840,
     "metadata": {},
     "output_type": "execute_result"
    }
   ],
   "source": [
    "grouped_cat"
   ]
  },
  {
   "cell_type": "code",
   "execution_count": 2841,
   "metadata": {},
   "outputs": [
    {
     "data": {
      "image/png": "[encoded data removed]",
      "text/plain": [
       "<Figure size 700x700 with 1 Axes>"
      ]
     },
     "metadata": {},
     "output_type": "display_data"
    },
    {
     "data": {
      "text/plain": [
       "<Figure size 640x480 with 0 Axes>"
      ]
     },
     "metadata": {},
     "output_type": "display_data"
    }
   ],
   "source": [
    "plt.figure(figsize=[7,7])\n",
    "sns.barplot(x='category', y='observations', data=grouped_cat)\n",
    "plt.title('Species of \"concerned\" animals')\n",
    "plt.xlabel('Species')\n",
    "plt.ylabel('Number of animals')\n",
    "plt.xticks(rotation=25)\n",
    "plt.savefig('bar_concern_species.png')\n",
    "plt.show()\n",
    "plt.clf()"
   ]
  },
  {
   "cell_type": "code",
   "execution_count": 2842,
   "metadata": {},
   "outputs": [],
   "source": [
    "grouped_conserv = newdf_values[['conservation_status', 'observations']].groupby('conservation_status').sum().reset_index()"
   ]
  },
  {
   "cell_type": "code",
   "execution_count": 2843,
   "metadata": {},
   "outputs": [
    {
     "data": {
      "text/html": [
       "<div>\n",
       "<style scoped>\n",
       "    .dataframe tbody tr th:only-of-type {\n",
       "        vertical-align: middle;\n",
       "    }\n",
       "\n",
       "    .dataframe tbody tr th {\n",
       "        vertical-align: top;\n",
       "    }\n",
       "\n",
       "    .dataframe thead th {\n",
       "        text-align: right;\n",
       "    }\n",
       "</style>\n",
       "<table border=\"1\" class=\"dataframe\">\n",
       "  <thead>\n",
       "    <tr style=\"text-align: right;\">\n",
       "      <th></th>\n",
       "      <th>conservation_status</th>\n",
       "      <th>observations</th>\n",
       "    </tr>\n",
       "  </thead>\n",
       "  <tbody>\n",
       "    <tr>\n",
       "      <th>0</th>\n",
       "      <td>Endangered</td>\n",
       "      <td>2798</td>\n",
       "    </tr>\n",
       "    <tr>\n",
       "      <th>1</th>\n",
       "      <td>In Recovery</td>\n",
       "      <td>1392</td>\n",
       "    </tr>\n",
       "    <tr>\n",
       "      <th>2</th>\n",
       "      <td>Species of Concern</td>\n",
       "      <td>82579</td>\n",
       "    </tr>\n",
       "    <tr>\n",
       "      <th>3</th>\n",
       "      <td>Threatened</td>\n",
       "      <td>2526</td>\n",
       "    </tr>\n",
       "  </tbody>\n",
       "</table>\n",
       "</div>"
      ],
      "text/plain": [
       "  conservation_status  observations\n",
       "0          Endangered          2798\n",
       "1         In Recovery          1392\n",
       "2  Species of Concern         82579\n",
       "3          Threatened          2526"
      ]
     },
     "execution_count": 2843,
     "metadata": {},
     "output_type": "execute_result"
    }
   ],
   "source": [
    "grouped_conserv"
   ]
  },
  {
   "cell_type": "code",
   "execution_count": 2844,
   "metadata": {},
   "outputs": [
    {
     "data": {
      "image/png": "[encoded data removed]",
      "text/plain": [
       "<Figure size 700x700 with 1 Axes>"
      ]
     },
     "metadata": {},
     "output_type": "display_data"
    },
    {
     "data": {
      "text/plain": [
       "<Figure size 640x480 with 0 Axes>"
      ]
     },
     "metadata": {},
     "output_type": "display_data"
    }
   ],
   "source": [
    "plt.figure(figsize=[7,7])\n",
    "sns.barplot(x='conservation_status', y='observations', data=grouped_conserv)\n",
    "plt.title('Status of \"concerned\" animals')\n",
    "plt.xlabel('Status')\n",
    "plt.ylabel('Number of animals')\n",
    "plt.xticks(rotation=25)\n",
    "plt.savefig('bar_status_concerned.png')\n",
    "plt.show()\n",
    "plt.clf()"
   ]
  },
  {
   "cell_type": "code",
   "execution_count": 2845,
   "metadata": {},
   "outputs": [],
   "source": [
    "grouped_more = newdf_values[['conservation_status', 'category', 'observations']].groupby(['conservation_status', 'category']).sum().reset_index()"
   ]
  },
  {
   "cell_type": "code",
   "execution_count": 2846,
   "metadata": {},
   "outputs": [
    {
     "data": {
      "text/html": [
       "<div>\n",
       "<style scoped>\n",
       "    .dataframe tbody tr th:only-of-type {\n",
       "        vertical-align: middle;\n",
       "    }\n",
       "\n",
       "    .dataframe tbody tr th {\n",
       "        vertical-align: top;\n",
       "    }\n",
       "\n",
       "    .dataframe thead th {\n",
       "        text-align: right;\n",
       "    }\n",
       "</style>\n",
       "<table border=\"1\" class=\"dataframe\">\n",
       "  <thead>\n",
       "    <tr style=\"text-align: right;\">\n",
       "      <th></th>\n",
       "      <th>conservation_status</th>\n",
       "      <th>category</th>\n",
       "      <th>observations</th>\n",
       "    </tr>\n",
       "  </thead>\n",
       "  <tbody>\n",
       "    <tr>\n",
       "      <th>0</th>\n",
       "      <td>Endangered</td>\n",
       "      <td>Amphibian</td>\n",
       "      <td>144</td>\n",
       "    </tr>\n",
       "    <tr>\n",
       "      <th>1</th>\n",
       "      <td>Endangered</td>\n",
       "      <td>Bird</td>\n",
       "      <td>574</td>\n",
       "    </tr>\n",
       "    <tr>\n",
       "      <th>2</th>\n",
       "      <td>Endangered</td>\n",
       "      <td>Fish</td>\n",
       "      <td>455</td>\n",
       "    </tr>\n",
       "    <tr>\n",
       "      <th>3</th>\n",
       "      <td>Endangered</td>\n",
       "      <td>Mammal</td>\n",
       "      <td>1463</td>\n",
       "    </tr>\n",
       "    <tr>\n",
       "      <th>4</th>\n",
       "      <td>Endangered</td>\n",
       "      <td>Vascular Plant</td>\n",
       "      <td>162</td>\n",
       "    </tr>\n",
       "    <tr>\n",
       "      <th>5</th>\n",
       "      <td>In Recovery</td>\n",
       "      <td>Bird</td>\n",
       "      <td>1392</td>\n",
       "    </tr>\n",
       "    <tr>\n",
       "      <th>6</th>\n",
       "      <td>Species of Concern</td>\n",
       "      <td>Amphibian</td>\n",
       "      <td>2044</td>\n",
       "    </tr>\n",
       "    <tr>\n",
       "      <th>7</th>\n",
       "      <td>Species of Concern</td>\n",
       "      <td>Bird</td>\n",
       "      <td>36642</td>\n",
       "    </tr>\n",
       "    <tr>\n",
       "      <th>8</th>\n",
       "      <td>Species of Concern</td>\n",
       "      <td>Fish</td>\n",
       "      <td>2109</td>\n",
       "    </tr>\n",
       "    <tr>\n",
       "      <th>9</th>\n",
       "      <td>Species of Concern</td>\n",
       "      <td>Mammal</td>\n",
       "      <td>14408</td>\n",
       "    </tr>\n",
       "    <tr>\n",
       "      <th>10</th>\n",
       "      <td>Species of Concern</td>\n",
       "      <td>Nonvascular Plant</td>\n",
       "      <td>2705</td>\n",
       "    </tr>\n",
       "    <tr>\n",
       "      <th>11</th>\n",
       "      <td>Species of Concern</td>\n",
       "      <td>Reptile</td>\n",
       "      <td>2536</td>\n",
       "    </tr>\n",
       "    <tr>\n",
       "      <th>12</th>\n",
       "      <td>Species of Concern</td>\n",
       "      <td>Vascular Plant</td>\n",
       "      <td>22135</td>\n",
       "    </tr>\n",
       "    <tr>\n",
       "      <th>13</th>\n",
       "      <td>Threatened</td>\n",
       "      <td>Amphibian</td>\n",
       "      <td>564</td>\n",
       "    </tr>\n",
       "    <tr>\n",
       "      <th>14</th>\n",
       "      <td>Threatened</td>\n",
       "      <td>Fish</td>\n",
       "      <td>832</td>\n",
       "    </tr>\n",
       "    <tr>\n",
       "      <th>15</th>\n",
       "      <td>Threatened</td>\n",
       "      <td>Mammal</td>\n",
       "      <td>578</td>\n",
       "    </tr>\n",
       "    <tr>\n",
       "      <th>16</th>\n",
       "      <td>Threatened</td>\n",
       "      <td>Vascular Plant</td>\n",
       "      <td>552</td>\n",
       "    </tr>\n",
       "  </tbody>\n",
       "</table>\n",
       "</div>"
      ],
      "text/plain": [
       "   conservation_status           category  observations\n",
       "0           Endangered          Amphibian           144\n",
       "1           Endangered               Bird           574\n",
       "2           Endangered               Fish           455\n",
       "3           Endangered             Mammal          1463\n",
       "4           Endangered     Vascular Plant           162\n",
       "5          In Recovery               Bird          1392\n",
       "6   Species of Concern          Amphibian          2044\n",
       "7   Species of Concern               Bird         36642\n",
       "8   Species of Concern               Fish          2109\n",
       "9   Species of Concern             Mammal         14408\n",
       "10  Species of Concern  Nonvascular Plant          2705\n",
       "11  Species of Concern            Reptile          2536\n",
       "12  Species of Concern     Vascular Plant         22135\n",
       "13          Threatened          Amphibian           564\n",
       "14          Threatened               Fish           832\n",
       "15          Threatened             Mammal           578\n",
       "16          Threatened     Vascular Plant           552"
      ]
     },
     "execution_count": 2846,
     "metadata": {},
     "output_type": "execute_result"
    }
   ],
   "source": [
    "grouped_more"
   ]
  },
  {
   "cell_type": "code",
   "execution_count": null,
   "metadata": {},
   "outputs": [],
   "source": []
  }
 ],
 "metadata": {
  "kernelspec": {
   "display_name": "Python 3 (ipykernel)",
   "language": "python",
   "name": "python3"
  },
  "language_info": {
   "codemirror_mode": {
    "name": "ipython",
    "version": 3
   },
   "file_extension": ".py",
   "mimetype": "text/x-python",
   "name": "python",
   "nbconvert_exporter": "python",
   "pygments_lexer": "ipython3",
   "version": "3.10.9"
  }
 },
 "nbformat": 4,
 "nbformat_minor": 4
}

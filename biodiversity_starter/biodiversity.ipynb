{
 "cells": [
  {
   "cell_type": "code",
   "execution_count": 1437,
   "metadata": {},
   "outputs": [],
   "source": [
    "import pandas as pd\n",
    "import numpy as np\n",
    "import seaborn as sns\n",
    "import matplotlib.pyplot as plt\n",
    "import glob"
   ]
  },
  {
   "cell_type": "code",
   "execution_count": 1438,
   "metadata": {},
   "outputs": [],
   "source": [
    "file1 = pd.read_csv('observations.csv')\n",
    "file2 = pd.read_csv('species_info.csv')\n",
    "file1_2 = glob.glob('*.csv')\n",
    "files = [pd.read_csv(filename) for filename in file1_2]\n",
    "file3 = pd.concat(files)"
   ]
  },
  {
   "cell_type": "code",
   "execution_count": 1439,
   "metadata": {},
   "outputs": [
    {
     "name": "stdout",
     "output_type": "stream",
     "text": [
      "<class 'pandas.core.frame.DataFrame'>\n",
      "RangeIndex: 23296 entries, 0 to 23295\n",
      "Data columns (total 3 columns):\n",
      " #   Column           Non-Null Count  Dtype \n",
      "---  ------           --------------  ----- \n",
      " 0   scientific_name  23296 non-null  object\n",
      " 1   park_name        23296 non-null  object\n",
      " 2   observations     23296 non-null  int64 \n",
      "dtypes: int64(1), object(2)\n",
      "memory usage: 546.1+ KB\n"
     ]
    }
   ],
   "source": [
    "file1.info()"
   ]
  },
  {
   "cell_type": "code",
   "execution_count": 1440,
   "metadata": {},
   "outputs": [
    {
     "data": {
      "text/html": [
       "<div>\n",
       "<style scoped>\n",
       "    .dataframe tbody tr th:only-of-type {\n",
       "        vertical-align: middle;\n",
       "    }\n",
       "\n",
       "    .dataframe tbody tr th {\n",
       "        vertical-align: top;\n",
       "    }\n",
       "\n",
       "    .dataframe thead th {\n",
       "        text-align: right;\n",
       "    }\n",
       "</style>\n",
       "<table border=\"1\" class=\"dataframe\">\n",
       "  <thead>\n",
       "    <tr style=\"text-align: right;\">\n",
       "      <th></th>\n",
       "      <th>scientific_name</th>\n",
       "      <th>park_name</th>\n",
       "      <th>observations</th>\n",
       "    </tr>\n",
       "  </thead>\n",
       "  <tbody>\n",
       "    <tr>\n",
       "      <th>0</th>\n",
       "      <td>Vicia benghalensis</td>\n",
       "      <td>Great Smoky Mountains National Park</td>\n",
       "      <td>68</td>\n",
       "    </tr>\n",
       "    <tr>\n",
       "      <th>1</th>\n",
       "      <td>Neovison vison</td>\n",
       "      <td>Great Smoky Mountains National Park</td>\n",
       "      <td>77</td>\n",
       "    </tr>\n",
       "    <tr>\n",
       "      <th>2</th>\n",
       "      <td>Prunus subcordata</td>\n",
       "      <td>Yosemite National Park</td>\n",
       "      <td>138</td>\n",
       "    </tr>\n",
       "    <tr>\n",
       "      <th>3</th>\n",
       "      <td>Abutilon theophrasti</td>\n",
       "      <td>Bryce National Park</td>\n",
       "      <td>84</td>\n",
       "    </tr>\n",
       "    <tr>\n",
       "      <th>4</th>\n",
       "      <td>Githopsis specularioides</td>\n",
       "      <td>Great Smoky Mountains National Park</td>\n",
       "      <td>85</td>\n",
       "    </tr>\n",
       "  </tbody>\n",
       "</table>\n",
       "</div>"
      ],
      "text/plain": [
       "            scientific_name                            park_name  observations\n",
       "0        Vicia benghalensis  Great Smoky Mountains National Park            68\n",
       "1            Neovison vison  Great Smoky Mountains National Park            77\n",
       "2         Prunus subcordata               Yosemite National Park           138\n",
       "3      Abutilon theophrasti                  Bryce National Park            84\n",
       "4  Githopsis specularioides  Great Smoky Mountains National Park            85"
      ]
     },
     "execution_count": 1440,
     "metadata": {},
     "output_type": "execute_result"
    }
   ],
   "source": [
    "file1.head()"
   ]
  },
  {
   "cell_type": "code",
   "execution_count": 1441,
   "metadata": {},
   "outputs": [
    {
     "name": "stdout",
     "output_type": "stream",
     "text": [
      "There are 4 unique area under examination and these are as follows:\n",
      "['Great Smoky Mountains National Park' 'Yosemite National Park'\n",
      " 'Bryce National Park' 'Yellowstone National Park']\n"
     ]
    }
   ],
   "source": [
    "print(f'''There are {file1.park_name.nunique()} unique area under examination and these are as follows:\n",
    "{file1.park_name.unique()}''')"
   ]
  },
  {
   "cell_type": "code",
   "execution_count": 1442,
   "metadata": {},
   "outputs": [],
   "source": [
    "file1.park_name.replace('Great Smoky Mountains National Park', 'Great Smoky', inplace=True)\n",
    "file1.park_name.replace('Yosemite National Park', 'Yosemite', inplace=True)\n",
    "file1.park_name.replace('Bryce National Park', 'Bryce', inplace=True)\n",
    "file1.park_name.replace('Yellowstone National Park', 'Yellowstone', inplace=True)"
   ]
  },
  {
   "cell_type": "code",
   "execution_count": 1443,
   "metadata": {},
   "outputs": [
    {
     "data": {
      "text/plain": [
       "74.14491758241758"
      ]
     },
     "execution_count": 1443,
     "metadata": {},
     "output_type": "execute_result"
    }
   ],
   "source": [
    "file1[file1.park_name == 'Great Smoky']['observations'].mean()"
   ]
  },
  {
   "cell_type": "code",
   "execution_count": 1444,
   "metadata": {},
   "outputs": [],
   "source": [
    "avg_animal = file1[['park_name', 'observations']].groupby('park_name').mean().reset_index()"
   ]
  },
  {
   "cell_type": "code",
   "execution_count": 1445,
   "metadata": {},
   "outputs": [
    {
     "data": {
      "text/html": [
       "<div>\n",
       "<style scoped>\n",
       "    .dataframe tbody tr th:only-of-type {\n",
       "        vertical-align: middle;\n",
       "    }\n",
       "\n",
       "    .dataframe tbody tr th {\n",
       "        vertical-align: top;\n",
       "    }\n",
       "\n",
       "    .dataframe thead th {\n",
       "        text-align: right;\n",
       "    }\n",
       "</style>\n",
       "<table border=\"1\" class=\"dataframe\">\n",
       "  <thead>\n",
       "    <tr style=\"text-align: right;\">\n",
       "      <th></th>\n",
       "      <th>park_name</th>\n",
       "      <th>observations</th>\n",
       "    </tr>\n",
       "  </thead>\n",
       "  <tbody>\n",
       "    <tr>\n",
       "      <th>0</th>\n",
       "      <td>Bryce</td>\n",
       "      <td>98.905391</td>\n",
       "    </tr>\n",
       "    <tr>\n",
       "      <th>1</th>\n",
       "      <td>Great Smoky</td>\n",
       "      <td>74.144918</td>\n",
       "    </tr>\n",
       "    <tr>\n",
       "      <th>2</th>\n",
       "      <td>Yellowstone</td>\n",
       "      <td>247.864354</td>\n",
       "    </tr>\n",
       "    <tr>\n",
       "      <th>3</th>\n",
       "      <td>Yosemite</td>\n",
       "      <td>148.236951</td>\n",
       "    </tr>\n",
       "  </tbody>\n",
       "</table>\n",
       "</div>"
      ],
      "text/plain": [
       "     park_name  observations\n",
       "0        Bryce     98.905391\n",
       "1  Great Smoky     74.144918\n",
       "2  Yellowstone    247.864354\n",
       "3     Yosemite    148.236951"
      ]
     },
     "execution_count": 1445,
     "metadata": {},
     "output_type": "execute_result"
    }
   ],
   "source": [
    "avg_animal"
   ]
  },
  {
   "cell_type": "code",
   "execution_count": 1446,
   "metadata": {},
   "outputs": [],
   "source": [
    "total_animal = file1[['park_name', 'observations']].groupby('park_name').sum().reset_index()"
   ]
  },
  {
   "cell_type": "code",
   "execution_count": 1447,
   "metadata": {},
   "outputs": [
    {
     "data": {
      "text/html": [
       "<div>\n",
       "<style scoped>\n",
       "    .dataframe tbody tr th:only-of-type {\n",
       "        vertical-align: middle;\n",
       "    }\n",
       "\n",
       "    .dataframe tbody tr th {\n",
       "        vertical-align: top;\n",
       "    }\n",
       "\n",
       "    .dataframe thead th {\n",
       "        text-align: right;\n",
       "    }\n",
       "</style>\n",
       "<table border=\"1\" class=\"dataframe\">\n",
       "  <thead>\n",
       "    <tr style=\"text-align: right;\">\n",
       "      <th></th>\n",
       "      <th>park_name</th>\n",
       "      <th>observations</th>\n",
       "    </tr>\n",
       "  </thead>\n",
       "  <tbody>\n",
       "    <tr>\n",
       "      <th>0</th>\n",
       "      <td>Bryce</td>\n",
       "      <td>576025</td>\n",
       "    </tr>\n",
       "    <tr>\n",
       "      <th>1</th>\n",
       "      <td>Great Smoky</td>\n",
       "      <td>431820</td>\n",
       "    </tr>\n",
       "    <tr>\n",
       "      <th>2</th>\n",
       "      <td>Yellowstone</td>\n",
       "      <td>1443562</td>\n",
       "    </tr>\n",
       "    <tr>\n",
       "      <th>3</th>\n",
       "      <td>Yosemite</td>\n",
       "      <td>863332</td>\n",
       "    </tr>\n",
       "  </tbody>\n",
       "</table>\n",
       "</div>"
      ],
      "text/plain": [
       "     park_name  observations\n",
       "0        Bryce        576025\n",
       "1  Great Smoky        431820\n",
       "2  Yellowstone       1443562\n",
       "3     Yosemite        863332"
      ]
     },
     "execution_count": 1447,
     "metadata": {},
     "output_type": "execute_result"
    }
   ],
   "source": [
    "total_animal"
   ]
  },
  {
   "cell_type": "code",
   "execution_count": 1448,
   "metadata": {},
   "outputs": [],
   "source": [
    "total_animal['proportions'] = np.round(total_animal.observations*100 / total_animal.observations.sum(), 2)"
   ]
  },
  {
   "cell_type": "code",
   "execution_count": 1449,
   "metadata": {},
   "outputs": [
    {
     "data": {
      "text/html": [
       "<div>\n",
       "<style scoped>\n",
       "    .dataframe tbody tr th:only-of-type {\n",
       "        vertical-align: middle;\n",
       "    }\n",
       "\n",
       "    .dataframe tbody tr th {\n",
       "        vertical-align: top;\n",
       "    }\n",
       "\n",
       "    .dataframe thead th {\n",
       "        text-align: right;\n",
       "    }\n",
       "</style>\n",
       "<table border=\"1\" class=\"dataframe\">\n",
       "  <thead>\n",
       "    <tr style=\"text-align: right;\">\n",
       "      <th></th>\n",
       "      <th>park_name</th>\n",
       "      <th>observations</th>\n",
       "      <th>proportions</th>\n",
       "    </tr>\n",
       "  </thead>\n",
       "  <tbody>\n",
       "    <tr>\n",
       "      <th>0</th>\n",
       "      <td>Bryce</td>\n",
       "      <td>576025</td>\n",
       "      <td>17.38</td>\n",
       "    </tr>\n",
       "    <tr>\n",
       "      <th>1</th>\n",
       "      <td>Great Smoky</td>\n",
       "      <td>431820</td>\n",
       "      <td>13.03</td>\n",
       "    </tr>\n",
       "    <tr>\n",
       "      <th>2</th>\n",
       "      <td>Yellowstone</td>\n",
       "      <td>1443562</td>\n",
       "      <td>43.55</td>\n",
       "    </tr>\n",
       "    <tr>\n",
       "      <th>3</th>\n",
       "      <td>Yosemite</td>\n",
       "      <td>863332</td>\n",
       "      <td>26.05</td>\n",
       "    </tr>\n",
       "  </tbody>\n",
       "</table>\n",
       "</div>"
      ],
      "text/plain": [
       "     park_name  observations  proportions\n",
       "0        Bryce        576025        17.38\n",
       "1  Great Smoky        431820        13.03\n",
       "2  Yellowstone       1443562        43.55\n",
       "3     Yosemite        863332        26.05"
      ]
     },
     "execution_count": 1449,
     "metadata": {},
     "output_type": "execute_result"
    }
   ],
   "source": [
    "total_animal"
   ]
  },
  {
   "cell_type": "code",
   "execution_count": 1450,
   "metadata": {},
   "outputs": [
    {
     "data": {
      "image/png": "[encoded data removed]",
      "text/plain": [
       "<Figure size 1200x600 with 1 Axes>"
      ]
     },
     "metadata": {},
     "output_type": "display_data"
    },
    {
     "data": {
      "text/plain": [
       "<Figure size 640x480 with 0 Axes>"
      ]
     },
     "metadata": {},
     "output_type": "display_data"
    }
   ],
   "source": [
    "plt.figure(figsize=[12, 6])\n",
    "sns.set_palette('Set1')\n",
    "plt.pie(total_animal['observations'], autopct='%d%%', startangle=90, labels=total_animal.park_name, pctdistance=0.8)\n",
    "plt.title(f'Proportion of {total_animal.observations.sum():,} animals in {len(total_animal.park_name)} National Parks')\n",
    "hole = plt.Circle((0, 0), 0.65, facecolor='lightblue')\n",
    "plt.gcf().gca().add_artist(hole)\n",
    "plt.savefig('donut_animals_parks.png')\n",
    "plt.show()\n",
    "plt.clf()"
   ]
  },
  {
   "cell_type": "code",
   "execution_count": 1451,
   "metadata": {},
   "outputs": [
    {
     "data": {
      "image/png": "[encoded data removed]",
      "text/plain": [
       "<Figure size 1200x600 with 2 Axes>"
      ]
     },
     "metadata": {},
     "output_type": "display_data"
    },
    {
     "data": {
      "text/plain": [
       "<Figure size 640x480 with 0 Axes>"
      ]
     },
     "metadata": {},
     "output_type": "display_data"
    }
   ],
   "source": [
    "plt.figure(figsize=[12,6])\n",
    "plt.subplot(1,2,1)\n",
    "sns.barplot(x='park_name', y='observations', data=avg_animal)\n",
    "plt.title(f'Average number of animals in {avg_animal.park_name.nunique()} National Parks')\n",
    "plt.xlabel('Park')\n",
    "plt.ylabel('Number of animals')\n",
    "plt.xticks(rotation=30)\n",
    "plt.subplot(1,2,2)\n",
    "sns.barplot(x='park_name', y='observations', data=total_animal)\n",
    "plt.title(f'Total number of animals in {total_animal.park_name.nunique()} National Parks')\n",
    "plt.xlabel('Park')\n",
    "plt.ylabel('Number of animals (million)')\n",
    "plt.xticks(rotation=30)\n",
    "plt.savefig('bar_animals_parks.png')\n",
    "plt.show()\n",
    "plt.clf()"
   ]
  },
  {
   "cell_type": "code",
   "execution_count": 1452,
   "metadata": {},
   "outputs": [
    {
     "name": "stdout",
     "output_type": "stream",
     "text": [
      "There are 23,296 observations including 3,314,739 animals total in the sample\n"
     ]
    }
   ],
   "source": [
    "print(f'There are {len(file1.observations):,} observations including {file1.observations.sum():,} animals total in the sample')"
   ]
  },
  {
   "cell_type": "code",
   "execution_count": 1453,
   "metadata": {},
   "outputs": [
    {
     "name": "stdout",
     "output_type": "stream",
     "text": [
      "There are 5541 species among the animals\n"
     ]
    }
   ],
   "source": [
    "print(f'There are {file1.scientific_name.nunique()} species among the animals')"
   ]
  },
  {
   "cell_type": "code",
   "execution_count": 1454,
   "metadata": {},
   "outputs": [
    {
     "name": "stdout",
     "output_type": "stream",
     "text": [
      "The max number of animals in one observation is 321\n",
      "The min number of animals in one observation is 9\n",
      "The average number of animals in one observation is 142\n"
     ]
    }
   ],
   "source": [
    "print(f'The max number of animals in one observation is {file1.observations.max()}')\n",
    "print(f'The min number of animals in one observation is {file1.observations.min()}')\n",
    "print(f'The average number of animals in one observation is {int(file1.observations.mean())}')"
   ]
  },
  {
   "cell_type": "code",
   "execution_count": 1455,
   "metadata": {},
   "outputs": [
    {
     "data": {
      "image/png": "[encoded data removed]",
      "text/plain": [
       "<Figure size 900x600 with 1 Axes>"
      ]
     },
     "metadata": {},
     "output_type": "display_data"
    },
    {
     "data": {
      "text/plain": [
       "<Figure size 640x480 with 0 Axes>"
      ]
     },
     "metadata": {},
     "output_type": "display_data"
    }
   ],
   "source": [
    "plt.figure(figsize=[9, 6])\n",
    "sns.histplot(file1.observations, kde=True, bins=20, color='darkblue')\n",
    "plt.title(f'Histogram of observations in {file1.park_name.nunique()} National Parks including {file1.observations.sum():,} animals')\n",
    "plt.xlabel('Number of animals in one observation (ranges)')\n",
    "plt.ylabel('Number of observations (count)')\n",
    "plt.text(x=190, y=2800, s=f'''Animals in range of [{file1.observations.min()} - {file1.observations.max()}] per observation''',\n",
    "fontsize=9)\n",
    "plt.axvline(np.mean(file1.observations), color='black')\n",
    "plt.text(x=145, y=2000, s=f'Mean: {int(file1.observations.mean())}', fontsize=8)\n",
    "plt.savefig('hist_observs.png')\n",
    "plt.show()\n",
    "plt.clf()"
   ]
  },
  {
   "cell_type": "code",
   "execution_count": 1456,
   "metadata": {},
   "outputs": [
    {
     "name": "stdout",
     "output_type": "stream",
     "text": [
      "You can see that there are 2 peaks in this distribution, meaning that the highest number of observations have 2 occurences \n",
      "at around 85 animals and 250 animals. Let us examine where are those observations!\n"
     ]
    }
   ],
   "source": [
    "print('''You can see that there are 2 peaks in this distribution, meaning that the highest number of observations have 2 occurences \n",
    "at around 85 animals and 250 animals. Let us examine where are those observations!''')"
   ]
  },
  {
   "cell_type": "code",
   "execution_count": 1457,
   "metadata": {},
   "outputs": [
    {
     "name": "stdout",
     "output_type": "stream",
     "text": [
      "First we should calculate the number of observations in the Parks succesively.\n"
     ]
    }
   ],
   "source": [
    "print('First we should calculate the number of observations in the Parks succesively.')"
   ]
  },
  {
   "cell_type": "code",
   "execution_count": 1458,
   "metadata": {},
   "outputs": [],
   "source": [
    "park1 = file1[file1.park_name == 'Great Smoky']\n",
    "park2 = file1[file1.park_name == 'Yosemite']\n",
    "park3 = file1[file1.park_name == 'Bryce']\n",
    "park4 = file1[file1.park_name == 'Yellowstone']"
   ]
  },
  {
   "cell_type": "code",
   "execution_count": 1459,
   "metadata": {},
   "outputs": [],
   "source": [
    "park_all = [park1, park2, park3, park4]"
   ]
  },
  {
   "cell_type": "code",
   "execution_count": 1460,
   "metadata": {
    "scrolled": true
   },
   "outputs": [
    {
     "name": "stdout",
     "output_type": "stream",
     "text": [
      "The number of observations in ['Great Smoky'] Park is 5824\n",
      "The number of observations in ['Yosemite'] Park is 5824\n",
      "The number of observations in ['Bryce'] Park is 5824\n",
      "The number of observations in ['Yellowstone'] Park is 5824\n"
     ]
    }
   ],
   "source": [
    "for park in park_all:\n",
    "    print(f'The number of observations in {park.park_name.unique()} Park is {len(park.observations)}')"
   ]
  },
  {
   "cell_type": "code",
   "execution_count": 1461,
   "metadata": {},
   "outputs": [
    {
     "name": "stdout",
     "output_type": "stream",
     "text": [
      "You can see that the number of observations is exactly the same in every Park. It means that the majority of the \n",
      "observations below 85 animals is related to the Great Smokey N.P. because of having the lowest average animal number\n",
      "in one observation, and because of the existence of the other observations of other Parks. On the other hand observations\n",
      "with more than 150 animals mostly related to the Yellowstone N.P. because we calculated there the highest mean of animals\n",
      "among the 4 Parks and there is a relative big difference between the average animal number of Yellostone and Yosemite.\n",
      "It was worth doing some math, we can find the min and the max animal number of every Park, but that is not a must.\n"
     ]
    }
   ],
   "source": [
    "print('''You can see that the number of observations is exactly the same in every Park. It means that the majority of the \n",
    "observations below 85 animals is related to the Great Smokey N.P. because of having the lowest average animal number\n",
    "in one observation, and because of the existence of the other observations of other Parks. On the other hand observations\n",
    "with more than 150 animals mostly related to the Yellowstone N.P. because we calculated there the highest mean of animals\n",
    "among the 4 Parks and there is a relative big difference between the average animal number of Yellostone and Yosemite.\n",
    "It was worth doing some math, we can find the min and the max animal number of every Park, but that is not a must.''')"
   ]
  },
  {
   "cell_type": "code",
   "execution_count": 1462,
   "metadata": {},
   "outputs": [
    {
     "name": "stdout",
     "output_type": "stream",
     "text": [
      "<class 'pandas.core.frame.DataFrame'>\n",
      "RangeIndex: 5824 entries, 0 to 5823\n",
      "Data columns (total 4 columns):\n",
      " #   Column               Non-Null Count  Dtype \n",
      "---  ------               --------------  ----- \n",
      " 0   category             5824 non-null   object\n",
      " 1   scientific_name      5824 non-null   object\n",
      " 2   common_names         5824 non-null   object\n",
      " 3   conservation_status  191 non-null    object\n",
      "dtypes: object(4)\n",
      "memory usage: 182.1+ KB\n"
     ]
    }
   ],
   "source": [
    "file2.info()"
   ]
  },
  {
   "cell_type": "code",
   "execution_count": 1463,
   "metadata": {},
   "outputs": [
    {
     "data": {
      "text/html": [
       "<div>\n",
       "<style scoped>\n",
       "    .dataframe tbody tr th:only-of-type {\n",
       "        vertical-align: middle;\n",
       "    }\n",
       "\n",
       "    .dataframe tbody tr th {\n",
       "        vertical-align: top;\n",
       "    }\n",
       "\n",
       "    .dataframe thead th {\n",
       "        text-align: right;\n",
       "    }\n",
       "</style>\n",
       "<table border=\"1\" class=\"dataframe\">\n",
       "  <thead>\n",
       "    <tr style=\"text-align: right;\">\n",
       "      <th></th>\n",
       "      <th>category</th>\n",
       "      <th>scientific_name</th>\n",
       "      <th>common_names</th>\n",
       "      <th>conservation_status</th>\n",
       "    </tr>\n",
       "  </thead>\n",
       "  <tbody>\n",
       "    <tr>\n",
       "      <th>0</th>\n",
       "      <td>Mammal</td>\n",
       "      <td>Clethrionomys gapperi gapperi</td>\n",
       "      <td>Gapper's Red-Backed Vole</td>\n",
       "      <td>NaN</td>\n",
       "    </tr>\n",
       "    <tr>\n",
       "      <th>1</th>\n",
       "      <td>Mammal</td>\n",
       "      <td>Bos bison</td>\n",
       "      <td>American Bison, Bison</td>\n",
       "      <td>NaN</td>\n",
       "    </tr>\n",
       "    <tr>\n",
       "      <th>2</th>\n",
       "      <td>Mammal</td>\n",
       "      <td>Bos taurus</td>\n",
       "      <td>Aurochs, Aurochs, Domestic Cattle (Feral), Dom...</td>\n",
       "      <td>NaN</td>\n",
       "    </tr>\n",
       "    <tr>\n",
       "      <th>3</th>\n",
       "      <td>Mammal</td>\n",
       "      <td>Ovis aries</td>\n",
       "      <td>Domestic Sheep, Mouflon, Red Sheep, Sheep (Feral)</td>\n",
       "      <td>NaN</td>\n",
       "    </tr>\n",
       "    <tr>\n",
       "      <th>4</th>\n",
       "      <td>Mammal</td>\n",
       "      <td>Cervus elaphus</td>\n",
       "      <td>Wapiti Or Elk</td>\n",
       "      <td>NaN</td>\n",
       "    </tr>\n",
       "  </tbody>\n",
       "</table>\n",
       "</div>"
      ],
      "text/plain": [
       "  category                scientific_name  \\\n",
       "0   Mammal  Clethrionomys gapperi gapperi   \n",
       "1   Mammal                      Bos bison   \n",
       "2   Mammal                     Bos taurus   \n",
       "3   Mammal                     Ovis aries   \n",
       "4   Mammal                 Cervus elaphus   \n",
       "\n",
       "                                        common_names conservation_status  \n",
       "0                           Gapper's Red-Backed Vole                 NaN  \n",
       "1                              American Bison, Bison                 NaN  \n",
       "2  Aurochs, Aurochs, Domestic Cattle (Feral), Dom...                 NaN  \n",
       "3  Domestic Sheep, Mouflon, Red Sheep, Sheep (Feral)                 NaN  \n",
       "4                                      Wapiti Or Elk                 NaN  "
      ]
     },
     "execution_count": 1463,
     "metadata": {},
     "output_type": "execute_result"
    }
   ],
   "source": [
    "file2.head()"
   ]
  },
  {
   "cell_type": "code",
   "execution_count": 1464,
   "metadata": {},
   "outputs": [
    {
     "data": {
      "text/plain": [
       "category                  7\n",
       "scientific_name        5541\n",
       "common_names           5504\n",
       "conservation_status       4\n",
       "dtype: int64"
      ]
     },
     "execution_count": 1464,
     "metadata": {},
     "output_type": "execute_result"
    }
   ],
   "source": [
    "file2.nunique()"
   ]
  },
  {
   "cell_type": "code",
   "execution_count": 1465,
   "metadata": {},
   "outputs": [
    {
     "data": {
      "text/plain": [
       "283"
      ]
     },
     "execution_count": 1465,
     "metadata": {},
     "output_type": "execute_result"
    }
   ],
   "source": [
    "len(file2.scientific_name) - file2.scientific_name.nunique()"
   ]
  },
  {
   "cell_type": "code",
   "execution_count": 1466,
   "metadata": {},
   "outputs": [
    {
     "data": {
      "text/plain": [
       "True"
      ]
     },
     "execution_count": 1466,
     "metadata": {},
     "output_type": "execute_result"
    }
   ],
   "source": [
    "file2.scientific_name.nunique() == file1.scientific_name.nunique()"
   ]
  },
  {
   "cell_type": "code",
   "execution_count": 1467,
   "metadata": {},
   "outputs": [
    {
     "data": {
      "text/plain": [
       "False    5541\n",
       "True      283\n",
       "dtype: int64"
      ]
     },
     "execution_count": 1467,
     "metadata": {},
     "output_type": "execute_result"
    }
   ],
   "source": [
    "file2.duplicated(subset='scientific_name').value_counts()"
   ]
  },
  {
   "cell_type": "code",
   "execution_count": 1468,
   "metadata": {},
   "outputs": [
    {
     "data": {
      "text/plain": [
       "283"
      ]
     },
     "execution_count": 1468,
     "metadata": {},
     "output_type": "execute_result"
    }
   ],
   "source": [
    "file2.duplicated(subset='scientific_name').value_counts().loc[True]"
   ]
  },
  {
   "cell_type": "code",
   "execution_count": 1469,
   "metadata": {},
   "outputs": [],
   "source": [
    "file2 = file2.drop_duplicates(subset='scientific_name')"
   ]
  },
  {
   "cell_type": "code",
   "execution_count": 1470,
   "metadata": {},
   "outputs": [
    {
     "data": {
      "text/plain": [
       "False    5541\n",
       "dtype: int64"
      ]
     },
     "execution_count": 1470,
     "metadata": {},
     "output_type": "execute_result"
    }
   ],
   "source": [
    "file2.duplicated(subset='scientific_name').value_counts()"
   ]
  },
  {
   "cell_type": "code",
   "execution_count": 1471,
   "metadata": {},
   "outputs": [
    {
     "name": "stdout",
     "output_type": "stream",
     "text": [
      "<class 'pandas.core.frame.DataFrame'>\n",
      "Int64Index: 5541 entries, 0 to 5823\n",
      "Data columns (total 4 columns):\n",
      " #   Column               Non-Null Count  Dtype \n",
      "---  ------               --------------  ----- \n",
      " 0   category             5541 non-null   object\n",
      " 1   scientific_name      5541 non-null   object\n",
      " 2   common_names         5541 non-null   object\n",
      " 3   conservation_status  178 non-null    object\n",
      "dtypes: object(4)\n",
      "memory usage: 216.4+ KB\n"
     ]
    }
   ],
   "source": [
    "file2.info()"
   ]
  },
  {
   "cell_type": "code",
   "execution_count": 1472,
   "metadata": {},
   "outputs": [
    {
     "data": {
      "text/plain": [
       "array([nan, 'Species of Concern', 'Endangered', 'Threatened',\n",
       "       'In Recovery'], dtype=object)"
      ]
     },
     "execution_count": 1472,
     "metadata": {},
     "output_type": "execute_result"
    }
   ],
   "source": [
    "file2.conservation_status.unique()"
   ]
  },
  {
   "cell_type": "code",
   "execution_count": 1473,
   "metadata": {},
   "outputs": [],
   "source": [
    "endangered_species = file2[~file2.conservation_status.isna()].reset_index()"
   ]
  },
  {
   "cell_type": "code",
   "execution_count": 1474,
   "metadata": {
    "scrolled": false
   },
   "outputs": [
    {
     "data": {
      "text/html": [
       "<div>\n",
       "<style scoped>\n",
       "    .dataframe tbody tr th:only-of-type {\n",
       "        vertical-align: middle;\n",
       "    }\n",
       "\n",
       "    .dataframe tbody tr th {\n",
       "        vertical-align: top;\n",
       "    }\n",
       "\n",
       "    .dataframe thead th {\n",
       "        text-align: right;\n",
       "    }\n",
       "</style>\n",
       "<table border=\"1\" class=\"dataframe\">\n",
       "  <thead>\n",
       "    <tr style=\"text-align: right;\">\n",
       "      <th></th>\n",
       "      <th>index</th>\n",
       "      <th>category</th>\n",
       "      <th>scientific_name</th>\n",
       "      <th>common_names</th>\n",
       "      <th>conservation_status</th>\n",
       "    </tr>\n",
       "  </thead>\n",
       "  <tbody>\n",
       "    <tr>\n",
       "      <th>0</th>\n",
       "      <td>7</td>\n",
       "      <td>Mammal</td>\n",
       "      <td>Canis latrans</td>\n",
       "      <td>Coyote</td>\n",
       "      <td>Species of Concern</td>\n",
       "    </tr>\n",
       "    <tr>\n",
       "      <th>1</th>\n",
       "      <td>8</td>\n",
       "      <td>Mammal</td>\n",
       "      <td>Canis lupus</td>\n",
       "      <td>Gray Wolf</td>\n",
       "      <td>Endangered</td>\n",
       "    </tr>\n",
       "    <tr>\n",
       "      <th>2</th>\n",
       "      <td>9</td>\n",
       "      <td>Mammal</td>\n",
       "      <td>Canis rufus</td>\n",
       "      <td>Red Wolf</td>\n",
       "      <td>Endangered</td>\n",
       "    </tr>\n",
       "    <tr>\n",
       "      <th>3</th>\n",
       "      <td>29</td>\n",
       "      <td>Mammal</td>\n",
       "      <td>Eptesicus fuscus</td>\n",
       "      <td>Big Brown Bat</td>\n",
       "      <td>Species of Concern</td>\n",
       "    </tr>\n",
       "    <tr>\n",
       "      <th>4</th>\n",
       "      <td>30</td>\n",
       "      <td>Mammal</td>\n",
       "      <td>Lasionycteris noctivagans</td>\n",
       "      <td>Silver-Haired Bat</td>\n",
       "      <td>Species of Concern</td>\n",
       "    </tr>\n",
       "    <tr>\n",
       "      <th>...</th>\n",
       "      <td>...</td>\n",
       "      <td>...</td>\n",
       "      <td>...</td>\n",
       "      <td>...</td>\n",
       "      <td>...</td>\n",
       "    </tr>\n",
       "    <tr>\n",
       "      <th>173</th>\n",
       "      <td>5302</td>\n",
       "      <td>Vascular Plant</td>\n",
       "      <td>Callitriche marginata</td>\n",
       "      <td>Winged Water-Starwort</td>\n",
       "      <td>Species of Concern</td>\n",
       "    </tr>\n",
       "    <tr>\n",
       "      <th>174</th>\n",
       "      <td>5399</td>\n",
       "      <td>Vascular Plant</td>\n",
       "      <td>Camissonia sierrae ssp. alticola</td>\n",
       "      <td>Mono Hot Springs Evening Primrose, Mono Hot Sp...</td>\n",
       "      <td>Species of Concern</td>\n",
       "    </tr>\n",
       "    <tr>\n",
       "      <th>175</th>\n",
       "      <td>5426</td>\n",
       "      <td>Vascular Plant</td>\n",
       "      <td>Epilobium oreganum</td>\n",
       "      <td>Grants Pass Willowherb, Oregon Fireweed</td>\n",
       "      <td>Species of Concern</td>\n",
       "    </tr>\n",
       "    <tr>\n",
       "      <th>176</th>\n",
       "      <td>5436</td>\n",
       "      <td>Vascular Plant</td>\n",
       "      <td>Botrychium ascendens</td>\n",
       "      <td>Trianglelobe Moonwort, Upswept Moonwort</td>\n",
       "      <td>Species of Concern</td>\n",
       "    </tr>\n",
       "    <tr>\n",
       "      <th>177</th>\n",
       "      <td>5676</td>\n",
       "      <td>Vascular Plant</td>\n",
       "      <td>Romneya coulteri</td>\n",
       "      <td>Coulter's Matilija Poppy</td>\n",
       "      <td>Species of Concern</td>\n",
       "    </tr>\n",
       "  </tbody>\n",
       "</table>\n",
       "<p>178 rows × 5 columns</p>\n",
       "</div>"
      ],
      "text/plain": [
       "     index        category                   scientific_name  \\\n",
       "0        7          Mammal                     Canis latrans   \n",
       "1        8          Mammal                       Canis lupus   \n",
       "2        9          Mammal                       Canis rufus   \n",
       "3       29          Mammal                  Eptesicus fuscus   \n",
       "4       30          Mammal         Lasionycteris noctivagans   \n",
       "..     ...             ...                               ...   \n",
       "173   5302  Vascular Plant             Callitriche marginata   \n",
       "174   5399  Vascular Plant  Camissonia sierrae ssp. alticola   \n",
       "175   5426  Vascular Plant                Epilobium oreganum   \n",
       "176   5436  Vascular Plant              Botrychium ascendens   \n",
       "177   5676  Vascular Plant                  Romneya coulteri   \n",
       "\n",
       "                                          common_names conservation_status  \n",
       "0                                               Coyote  Species of Concern  \n",
       "1                                            Gray Wolf          Endangered  \n",
       "2                                             Red Wolf          Endangered  \n",
       "3                                        Big Brown Bat  Species of Concern  \n",
       "4                                    Silver-Haired Bat  Species of Concern  \n",
       "..                                                 ...                 ...  \n",
       "173                              Winged Water-Starwort  Species of Concern  \n",
       "174  Mono Hot Springs Evening Primrose, Mono Hot Sp...  Species of Concern  \n",
       "175            Grants Pass Willowherb, Oregon Fireweed  Species of Concern  \n",
       "176            Trianglelobe Moonwort, Upswept Moonwort  Species of Concern  \n",
       "177                           Coulter's Matilija Poppy  Species of Concern  \n",
       "\n",
       "[178 rows x 5 columns]"
      ]
     },
     "execution_count": 1474,
     "metadata": {},
     "output_type": "execute_result"
    }
   ],
   "source": [
    "endangered_species"
   ]
  },
  {
   "cell_type": "code",
   "execution_count": 1475,
   "metadata": {},
   "outputs": [
    {
     "data": {
      "text/plain": [
       "array(['Mammal', 'Bird', 'Reptile', 'Amphibian', 'Fish', 'Vascular Plant',\n",
       "       'Nonvascular Plant'], dtype=object)"
      ]
     },
     "execution_count": 1475,
     "metadata": {},
     "output_type": "execute_result"
    }
   ],
   "source": [
    "endangered_species['category'].unique()"
   ]
  },
  {
   "cell_type": "code",
   "execution_count": 1476,
   "metadata": {},
   "outputs": [
    {
     "data": {
      "text/plain": [
       "array(['Species of Concern', 'Endangered', 'Threatened', 'In Recovery'],\n",
       "      dtype=object)"
      ]
     },
     "execution_count": 1476,
     "metadata": {},
     "output_type": "execute_result"
    }
   ],
   "source": [
    "endangered_species['conservation_status'].unique()"
   ]
  },
  {
   "cell_type": "code",
   "execution_count": 1477,
   "metadata": {},
   "outputs": [],
   "source": [
    "#Hi Rob, what I would like to do here is to join file1 and file2. \"scientific_name\" column must be the column where they should \n",
    "#connect to each other.\n",
    "\n"
   ]
  },
  {
   "cell_type": "code",
   "execution_count": 1478,
   "metadata": {},
   "outputs": [
    {
     "name": "stdout",
     "output_type": "stream",
     "text": [
      "The number of endangered species is 178\n"
     ]
    }
   ],
   "source": [
    "print(f'The number of endangered species is {len(file2.scientific_name[~file2.conservation_status.isna()])}')"
   ]
  },
  {
   "cell_type": "code",
   "execution_count": 1479,
   "metadata": {},
   "outputs": [],
   "source": [
    "newdf = file1.merge(endangered_species, how='left')"
   ]
  },
  {
   "cell_type": "code",
   "execution_count": 1480,
   "metadata": {},
   "outputs": [
    {
     "data": {
      "text/html": [
       "<div>\n",
       "<style scoped>\n",
       "    .dataframe tbody tr th:only-of-type {\n",
       "        vertical-align: middle;\n",
       "    }\n",
       "\n",
       "    .dataframe tbody tr th {\n",
       "        vertical-align: top;\n",
       "    }\n",
       "\n",
       "    .dataframe thead th {\n",
       "        text-align: right;\n",
       "    }\n",
       "</style>\n",
       "<table border=\"1\" class=\"dataframe\">\n",
       "  <thead>\n",
       "    <tr style=\"text-align: right;\">\n",
       "      <th></th>\n",
       "      <th>scientific_name</th>\n",
       "      <th>park_name</th>\n",
       "      <th>observations</th>\n",
       "      <th>index</th>\n",
       "      <th>category</th>\n",
       "      <th>common_names</th>\n",
       "      <th>conservation_status</th>\n",
       "    </tr>\n",
       "  </thead>\n",
       "  <tbody>\n",
       "    <tr>\n",
       "      <th>0</th>\n",
       "      <td>Vicia benghalensis</td>\n",
       "      <td>Great Smoky</td>\n",
       "      <td>68</td>\n",
       "      <td>NaN</td>\n",
       "      <td>NaN</td>\n",
       "      <td>NaN</td>\n",
       "      <td>NaN</td>\n",
       "    </tr>\n",
       "    <tr>\n",
       "      <th>1</th>\n",
       "      <td>Neovison vison</td>\n",
       "      <td>Great Smoky</td>\n",
       "      <td>77</td>\n",
       "      <td>NaN</td>\n",
       "      <td>NaN</td>\n",
       "      <td>NaN</td>\n",
       "      <td>NaN</td>\n",
       "    </tr>\n",
       "    <tr>\n",
       "      <th>2</th>\n",
       "      <td>Prunus subcordata</td>\n",
       "      <td>Yosemite</td>\n",
       "      <td>138</td>\n",
       "      <td>NaN</td>\n",
       "      <td>NaN</td>\n",
       "      <td>NaN</td>\n",
       "      <td>NaN</td>\n",
       "    </tr>\n",
       "    <tr>\n",
       "      <th>3</th>\n",
       "      <td>Abutilon theophrasti</td>\n",
       "      <td>Bryce</td>\n",
       "      <td>84</td>\n",
       "      <td>NaN</td>\n",
       "      <td>NaN</td>\n",
       "      <td>NaN</td>\n",
       "      <td>NaN</td>\n",
       "    </tr>\n",
       "    <tr>\n",
       "      <th>4</th>\n",
       "      <td>Githopsis specularioides</td>\n",
       "      <td>Great Smoky</td>\n",
       "      <td>85</td>\n",
       "      <td>NaN</td>\n",
       "      <td>NaN</td>\n",
       "      <td>NaN</td>\n",
       "      <td>NaN</td>\n",
       "    </tr>\n",
       "  </tbody>\n",
       "</table>\n",
       "</div>"
      ],
      "text/plain": [
       "            scientific_name    park_name  observations  index category  \\\n",
       "0        Vicia benghalensis  Great Smoky            68    NaN      NaN   \n",
       "1            Neovison vison  Great Smoky            77    NaN      NaN   \n",
       "2         Prunus subcordata     Yosemite           138    NaN      NaN   \n",
       "3      Abutilon theophrasti        Bryce            84    NaN      NaN   \n",
       "4  Githopsis specularioides  Great Smoky            85    NaN      NaN   \n",
       "\n",
       "  common_names conservation_status  \n",
       "0          NaN                 NaN  \n",
       "1          NaN                 NaN  \n",
       "2          NaN                 NaN  \n",
       "3          NaN                 NaN  \n",
       "4          NaN                 NaN  "
      ]
     },
     "execution_count": 1480,
     "metadata": {},
     "output_type": "execute_result"
    }
   ],
   "source": [
    "newdf.head()"
   ]
  },
  {
   "cell_type": "code",
   "execution_count": 1481,
   "metadata": {},
   "outputs": [
    {
     "name": "stdout",
     "output_type": "stream",
     "text": [
      "<class 'pandas.core.frame.DataFrame'>\n",
      "Int64Index: 23296 entries, 0 to 23295\n",
      "Data columns (total 7 columns):\n",
      " #   Column               Non-Null Count  Dtype  \n",
      "---  ------               --------------  -----  \n",
      " 0   scientific_name      23296 non-null  object \n",
      " 1   park_name            23296 non-null  object \n",
      " 2   observations         23296 non-null  int64  \n",
      " 3   index                760 non-null    float64\n",
      " 4   category             760 non-null    object \n",
      " 5   common_names         760 non-null    object \n",
      " 6   conservation_status  760 non-null    object \n",
      "dtypes: float64(1), int64(1), object(5)\n",
      "memory usage: 1.4+ MB\n"
     ]
    }
   ],
   "source": [
    "newdf.info()"
   ]
  },
  {
   "cell_type": "code",
   "execution_count": 1482,
   "metadata": {},
   "outputs": [],
   "source": [
    "newdf_values = newdf[~newdf.index.isna() & ~newdf.category.isna() & ~newdf.common_names.isna() & ~newdf.conservation_status.isna()].reset_index()"
   ]
  },
  {
   "cell_type": "code",
   "execution_count": 1483,
   "metadata": {},
   "outputs": [
    {
     "name": "stdout",
     "output_type": "stream",
     "text": [
      "<class 'pandas.core.frame.DataFrame'>\n",
      "RangeIndex: 760 entries, 0 to 759\n",
      "Data columns (total 8 columns):\n",
      " #   Column               Non-Null Count  Dtype  \n",
      "---  ------               --------------  -----  \n",
      " 0   level_0              760 non-null    int64  \n",
      " 1   scientific_name      760 non-null    object \n",
      " 2   park_name            760 non-null    object \n",
      " 3   observations         760 non-null    int64  \n",
      " 4   index                760 non-null    float64\n",
      " 5   category             760 non-null    object \n",
      " 6   common_names         760 non-null    object \n",
      " 7   conservation_status  760 non-null    object \n",
      "dtypes: float64(1), int64(2), object(5)\n",
      "memory usage: 47.6+ KB\n"
     ]
    }
   ],
   "source": [
    "newdf_values.info()"
   ]
  },
  {
   "cell_type": "code",
   "execution_count": 1484,
   "metadata": {},
   "outputs": [
    {
     "data": {
      "text/html": [
       "<div>\n",
       "<style scoped>\n",
       "    .dataframe tbody tr th:only-of-type {\n",
       "        vertical-align: middle;\n",
       "    }\n",
       "\n",
       "    .dataframe tbody tr th {\n",
       "        vertical-align: top;\n",
       "    }\n",
       "\n",
       "    .dataframe thead th {\n",
       "        text-align: right;\n",
       "    }\n",
       "</style>\n",
       "<table border=\"1\" class=\"dataframe\">\n",
       "  <thead>\n",
       "    <tr style=\"text-align: right;\">\n",
       "      <th></th>\n",
       "      <th>level_0</th>\n",
       "      <th>scientific_name</th>\n",
       "      <th>park_name</th>\n",
       "      <th>observations</th>\n",
       "      <th>index</th>\n",
       "      <th>category</th>\n",
       "      <th>common_names</th>\n",
       "      <th>conservation_status</th>\n",
       "    </tr>\n",
       "  </thead>\n",
       "  <tbody>\n",
       "    <tr>\n",
       "      <th>0</th>\n",
       "      <td>24</td>\n",
       "      <td>Zizia trifoliata</td>\n",
       "      <td>Yosemite</td>\n",
       "      <td>135</td>\n",
       "      <td>634.0</td>\n",
       "      <td>Vascular Plant</td>\n",
       "      <td>Meadow Alexanders, Three-Leaved Golden Alexanders</td>\n",
       "      <td>Species of Concern</td>\n",
       "    </tr>\n",
       "    <tr>\n",
       "      <th>1</th>\n",
       "      <td>36</td>\n",
       "      <td>Camissonia sierrae ssp. alticola</td>\n",
       "      <td>Bryce</td>\n",
       "      <td>84</td>\n",
       "      <td>5399.0</td>\n",
       "      <td>Vascular Plant</td>\n",
       "      <td>Mono Hot Springs Evening Primrose, Mono Hot Sp...</td>\n",
       "      <td>Species of Concern</td>\n",
       "    </tr>\n",
       "    <tr>\n",
       "      <th>2</th>\n",
       "      <td>71</td>\n",
       "      <td>Tofieldia glabra</td>\n",
       "      <td>Great Smoky</td>\n",
       "      <td>75</td>\n",
       "      <td>593.0</td>\n",
       "      <td>Vascular Plant</td>\n",
       "      <td>Smooth Bog-Asphodel, Smooth Tofieldia</td>\n",
       "      <td>Species of Concern</td>\n",
       "    </tr>\n",
       "    <tr>\n",
       "      <th>3</th>\n",
       "      <td>94</td>\n",
       "      <td>Accipiter cooperii</td>\n",
       "      <td>Bryce</td>\n",
       "      <td>95</td>\n",
       "      <td>91.0</td>\n",
       "      <td>Bird</td>\n",
       "      <td>Cooper's Hawk</td>\n",
       "      <td>Species of Concern</td>\n",
       "    </tr>\n",
       "    <tr>\n",
       "      <th>4</th>\n",
       "      <td>118</td>\n",
       "      <td>Dichanthelium acuminatum var. acuminatum</td>\n",
       "      <td>Yosemite</td>\n",
       "      <td>123</td>\n",
       "      <td>2189.0</td>\n",
       "      <td>Vascular Plant</td>\n",
       "      <td>Tapered Rosette Grass</td>\n",
       "      <td>Species of Concern</td>\n",
       "    </tr>\n",
       "  </tbody>\n",
       "</table>\n",
       "</div>"
      ],
      "text/plain": [
       "   level_0                           scientific_name    park_name  \\\n",
       "0       24                          Zizia trifoliata     Yosemite   \n",
       "1       36          Camissonia sierrae ssp. alticola        Bryce   \n",
       "2       71                          Tofieldia glabra  Great Smoky   \n",
       "3       94                        Accipiter cooperii        Bryce   \n",
       "4      118  Dichanthelium acuminatum var. acuminatum     Yosemite   \n",
       "\n",
       "   observations   index        category  \\\n",
       "0           135   634.0  Vascular Plant   \n",
       "1            84  5399.0  Vascular Plant   \n",
       "2            75   593.0  Vascular Plant   \n",
       "3            95    91.0            Bird   \n",
       "4           123  2189.0  Vascular Plant   \n",
       "\n",
       "                                        common_names conservation_status  \n",
       "0  Meadow Alexanders, Three-Leaved Golden Alexanders  Species of Concern  \n",
       "1  Mono Hot Springs Evening Primrose, Mono Hot Sp...  Species of Concern  \n",
       "2              Smooth Bog-Asphodel, Smooth Tofieldia  Species of Concern  \n",
       "3                                      Cooper's Hawk  Species of Concern  \n",
       "4                              Tapered Rosette Grass  Species of Concern  "
      ]
     },
     "execution_count": 1484,
     "metadata": {},
     "output_type": "execute_result"
    }
   ],
   "source": [
    "newdf_values.head()"
   ]
  },
  {
   "cell_type": "code",
   "execution_count": 1485,
   "metadata": {},
   "outputs": [],
   "source": [
    "endangered_animals = newdf_values[['park_name', 'observations']].groupby('park_name').sum().reset_index()"
   ]
  },
  {
   "cell_type": "code",
   "execution_count": 1486,
   "metadata": {},
   "outputs": [
    {
     "data": {
      "image/png": "[encoded data removed]",
      "text/plain": [
       "<Figure size 600x600 with 1 Axes>"
      ]
     },
     "metadata": {},
     "output_type": "display_data"
    },
    {
     "data": {
      "text/plain": [
       "<Figure size 640x480 with 0 Axes>"
      ]
     },
     "metadata": {},
     "output_type": "display_data"
    }
   ],
   "source": [
    "plt.figure(figsize=[6,6])\n",
    "sns.barplot(x='park_name', y='observations', data=endangered_animals)\n",
    "plt.title(f'Proportion of endangered animals in {endangered_animals.park_name.nunique()} National Parks')\n",
    "plt.xlabel('Park')\n",
    "plt.ylabel('Number of animals')\n",
    "plt.savefig('bar_dangeranims.png')\n",
    "plt.show()\n",
    "plt.clf()"
   ]
  },
  {
   "cell_type": "code",
   "execution_count": 1487,
   "metadata": {},
   "outputs": [
    {
     "data": {
      "image/png": "[encoded data removed]",
      "text/plain": [
       "<Figure size 1200x600 with 1 Axes>"
      ]
     },
     "metadata": {},
     "output_type": "display_data"
    },
    {
     "data": {
      "text/plain": [
       "<Figure size 640x480 with 0 Axes>"
      ]
     },
     "metadata": {},
     "output_type": "display_data"
    }
   ],
   "source": [
    "plt.figure(figsize=[12, 6])\n",
    "sns.set_palette('Set1')\n",
    "plt.pie(endangered_animals['observations'], autopct='%d%%', startangle=90, labels=endangered_animals.park_name, pctdistance=0.8)\n",
    "plt.title(f'Proportion of {dangered_animals.observations.sum():,} endangered animals in {len(dangered_animals.park_name)} National Parks')\n",
    "hole = plt.Circle((0, 0), 0.65, facecolor='lightblue')\n",
    "plt.gcf().gca().add_artist(hole)\n",
    "plt.savefig('donut_dangeranims_parks.png')\n",
    "plt.show()\n",
    "plt.clf()"
   ]
  },
  {
   "cell_type": "code",
   "execution_count": 1488,
   "metadata": {},
   "outputs": [
    {
     "data": {
      "text/html": [
       "<div>\n",
       "<style scoped>\n",
       "    .dataframe tbody tr th:only-of-type {\n",
       "        vertical-align: middle;\n",
       "    }\n",
       "\n",
       "    .dataframe tbody tr th {\n",
       "        vertical-align: top;\n",
       "    }\n",
       "\n",
       "    .dataframe thead th {\n",
       "        text-align: right;\n",
       "    }\n",
       "</style>\n",
       "<table border=\"1\" class=\"dataframe\">\n",
       "  <thead>\n",
       "    <tr style=\"text-align: right;\">\n",
       "      <th></th>\n",
       "      <th>level_0</th>\n",
       "      <th>scientific_name</th>\n",
       "      <th>park_name</th>\n",
       "      <th>observations</th>\n",
       "      <th>index</th>\n",
       "      <th>category</th>\n",
       "      <th>common_names</th>\n",
       "      <th>conservation_status</th>\n",
       "    </tr>\n",
       "  </thead>\n",
       "  <tbody>\n",
       "    <tr>\n",
       "      <th>0</th>\n",
       "      <td>24</td>\n",
       "      <td>Zizia trifoliata</td>\n",
       "      <td>Yosemite</td>\n",
       "      <td>135</td>\n",
       "      <td>634.0</td>\n",
       "      <td>Vascular Plant</td>\n",
       "      <td>Meadow Alexanders, Three-Leaved Golden Alexanders</td>\n",
       "      <td>Species of Concern</td>\n",
       "    </tr>\n",
       "    <tr>\n",
       "      <th>1</th>\n",
       "      <td>36</td>\n",
       "      <td>Camissonia sierrae ssp. alticola</td>\n",
       "      <td>Bryce</td>\n",
       "      <td>84</td>\n",
       "      <td>5399.0</td>\n",
       "      <td>Vascular Plant</td>\n",
       "      <td>Mono Hot Springs Evening Primrose, Mono Hot Sp...</td>\n",
       "      <td>Species of Concern</td>\n",
       "    </tr>\n",
       "    <tr>\n",
       "      <th>2</th>\n",
       "      <td>71</td>\n",
       "      <td>Tofieldia glabra</td>\n",
       "      <td>Great Smoky</td>\n",
       "      <td>75</td>\n",
       "      <td>593.0</td>\n",
       "      <td>Vascular Plant</td>\n",
       "      <td>Smooth Bog-Asphodel, Smooth Tofieldia</td>\n",
       "      <td>Species of Concern</td>\n",
       "    </tr>\n",
       "    <tr>\n",
       "      <th>3</th>\n",
       "      <td>94</td>\n",
       "      <td>Accipiter cooperii</td>\n",
       "      <td>Bryce</td>\n",
       "      <td>95</td>\n",
       "      <td>91.0</td>\n",
       "      <td>Bird</td>\n",
       "      <td>Cooper's Hawk</td>\n",
       "      <td>Species of Concern</td>\n",
       "    </tr>\n",
       "    <tr>\n",
       "      <th>4</th>\n",
       "      <td>118</td>\n",
       "      <td>Dichanthelium acuminatum var. acuminatum</td>\n",
       "      <td>Yosemite</td>\n",
       "      <td>123</td>\n",
       "      <td>2189.0</td>\n",
       "      <td>Vascular Plant</td>\n",
       "      <td>Tapered Rosette Grass</td>\n",
       "      <td>Species of Concern</td>\n",
       "    </tr>\n",
       "  </tbody>\n",
       "</table>\n",
       "</div>"
      ],
      "text/plain": [
       "   level_0                           scientific_name    park_name  \\\n",
       "0       24                          Zizia trifoliata     Yosemite   \n",
       "1       36          Camissonia sierrae ssp. alticola        Bryce   \n",
       "2       71                          Tofieldia glabra  Great Smoky   \n",
       "3       94                        Accipiter cooperii        Bryce   \n",
       "4      118  Dichanthelium acuminatum var. acuminatum     Yosemite   \n",
       "\n",
       "   observations   index        category  \\\n",
       "0           135   634.0  Vascular Plant   \n",
       "1            84  5399.0  Vascular Plant   \n",
       "2            75   593.0  Vascular Plant   \n",
       "3            95    91.0            Bird   \n",
       "4           123  2189.0  Vascular Plant   \n",
       "\n",
       "                                        common_names conservation_status  \n",
       "0  Meadow Alexanders, Three-Leaved Golden Alexanders  Species of Concern  \n",
       "1  Mono Hot Springs Evening Primrose, Mono Hot Sp...  Species of Concern  \n",
       "2              Smooth Bog-Asphodel, Smooth Tofieldia  Species of Concern  \n",
       "3                                      Cooper's Hawk  Species of Concern  \n",
       "4                              Tapered Rosette Grass  Species of Concern  "
      ]
     },
     "execution_count": 1488,
     "metadata": {},
     "output_type": "execute_result"
    }
   ],
   "source": [
    "newdf_values.head()"
   ]
  },
  {
   "cell_type": "code",
   "execution_count": 1489,
   "metadata": {},
   "outputs": [],
   "source": [
    "grouped = newdf_values[['category', 'observations']].groupby('category').sum().reset_index()"
   ]
  },
  {
   "cell_type": "code",
   "execution_count": 1490,
   "metadata": {},
   "outputs": [
    {
     "data": {
      "text/html": [
       "<div>\n",
       "<style scoped>\n",
       "    .dataframe tbody tr th:only-of-type {\n",
       "        vertical-align: middle;\n",
       "    }\n",
       "\n",
       "    .dataframe tbody tr th {\n",
       "        vertical-align: top;\n",
       "    }\n",
       "\n",
       "    .dataframe thead th {\n",
       "        text-align: right;\n",
       "    }\n",
       "</style>\n",
       "<table border=\"1\" class=\"dataframe\">\n",
       "  <thead>\n",
       "    <tr style=\"text-align: right;\">\n",
       "      <th></th>\n",
       "      <th>category</th>\n",
       "      <th>observations</th>\n",
       "    </tr>\n",
       "  </thead>\n",
       "  <tbody>\n",
       "    <tr>\n",
       "      <th>0</th>\n",
       "      <td>Amphibian</td>\n",
       "      <td>2752</td>\n",
       "    </tr>\n",
       "    <tr>\n",
       "      <th>1</th>\n",
       "      <td>Bird</td>\n",
       "      <td>38608</td>\n",
       "    </tr>\n",
       "    <tr>\n",
       "      <th>2</th>\n",
       "      <td>Fish</td>\n",
       "      <td>3396</td>\n",
       "    </tr>\n",
       "    <tr>\n",
       "      <th>3</th>\n",
       "      <td>Mammal</td>\n",
       "      <td>16449</td>\n",
       "    </tr>\n",
       "    <tr>\n",
       "      <th>4</th>\n",
       "      <td>Nonvascular Plant</td>\n",
       "      <td>2705</td>\n",
       "    </tr>\n",
       "    <tr>\n",
       "      <th>5</th>\n",
       "      <td>Reptile</td>\n",
       "      <td>2536</td>\n",
       "    </tr>\n",
       "    <tr>\n",
       "      <th>6</th>\n",
       "      <td>Vascular Plant</td>\n",
       "      <td>22849</td>\n",
       "    </tr>\n",
       "  </tbody>\n",
       "</table>\n",
       "</div>"
      ],
      "text/plain": [
       "            category  observations\n",
       "0          Amphibian          2752\n",
       "1               Bird         38608\n",
       "2               Fish          3396\n",
       "3             Mammal         16449\n",
       "4  Nonvascular Plant          2705\n",
       "5            Reptile          2536\n",
       "6     Vascular Plant         22849"
      ]
     },
     "execution_count": 1490,
     "metadata": {},
     "output_type": "execute_result"
    }
   ],
   "source": [
    "grouped"
   ]
  },
  {
   "cell_type": "code",
   "execution_count": 1491,
   "metadata": {},
   "outputs": [
    {
     "data": {
      "image/png": "[encoded data removed]",
      "text/plain": [
       "<Figure size 700x700 with 1 Axes>"
      ]
     },
     "metadata": {},
     "output_type": "display_data"
    },
    {
     "data": {
      "text/plain": [
       "<Figure size 640x480 with 0 Axes>"
      ]
     },
     "metadata": {},
     "output_type": "display_data"
    }
   ],
   "source": [
    "plt.figure(figsize=[7,7])\n",
    "sns.barplot(x='category', y='observations', data=grouped)\n",
    "plt.title('Species of endangered animals')\n",
    "plt.xlabel('Species')\n",
    "plt.ylabel('Number of animals')\n",
    "plt.xticks(rotation=25)\n",
    "plt.savefig('bar_endangerspecies.png')\n",
    "plt.show()\n",
    "plt.clf()"
   ]
  },
  {
   "cell_type": "code",
   "execution_count": null,
   "metadata": {},
   "outputs": [],
   "source": []
  }
 ],
 "metadata": {
  "kernelspec": {
   "display_name": "Python 3 (ipykernel)",
   "language": "python",
   "name": "python3"
  },
  "language_info": {
   "codemirror_mode": {
    "name": "ipython",
    "version": 3
   },
   "file_extension": ".py",
   "mimetype": "text/x-python",
   "name": "python",
   "nbconvert_exporter": "python",
   "pygments_lexer": "ipython3",
   "version": "3.10.9"
  }
 },
 "nbformat": 4,
 "nbformat_minor": 4
}
